{
 "cells": [
  {
   "cell_type": "code",
   "execution_count": 1,
   "metadata": {
    "ExecuteTime": {
     "end_time": "2020-08-11T10:26:27.922827Z",
     "start_time": "2020-08-11T10:26:25.769589Z"
    },
    "colab": {},
    "colab_type": "code",
    "id": "GwSy3rWX4qkE"
   },
   "outputs": [],
   "source": [
    "import numpy as np \n",
    "import pandas as pd \n",
    "import matplotlib.pyplot as plt \n",
    "%matplotlib inline"
   ]
  },
  {
   "cell_type": "code",
   "execution_count": 2,
   "metadata": {
    "ExecuteTime": {
     "end_time": "2020-08-11T10:26:27.957735Z",
     "start_time": "2020-08-11T10:26:27.927816Z"
    },
    "colab": {},
    "colab_type": "code",
    "id": "_Y2dVGztb1vn"
   },
   "outputs": [],
   "source": [
    "%load_ext tensorboard"
   ]
  },
  {
   "cell_type": "code",
   "execution_count": 3,
   "metadata": {
    "ExecuteTime": {
     "end_time": "2020-08-11T10:26:28.116310Z",
     "start_time": "2020-08-11T10:26:27.960729Z"
    },
    "colab": {
     "base_uri": "https://localhost:8080/",
     "height": 72,
     "resources": {
      "http://localhost:8080/nbextensions/google.colab/files.js": {
       "data": "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",
       "headers": [
        [
         "content-type",
         "application/javascript"
        ]
       ],
       "ok": true,
       "status": 200,
       "status_text": ""
      }
     }
    },
    "colab_type": "code",
    "id": "b8LcbnJq44A8",
    "outputId": "2309840f-ead0-4608-bfd7-056ade79b932"
   },
   "outputs": [],
   "source": [
    "# from google.colab import files\n",
    "# uploaded = files.upload()"
   ]
  },
  {
   "cell_type": "code",
   "execution_count": 4,
   "metadata": {
    "ExecuteTime": {
     "end_time": "2020-08-11T10:26:28.270896Z",
     "start_time": "2020-08-11T10:26:28.119314Z"
    },
    "colab": {},
    "colab_type": "code",
    "id": "_yrSLl7e5TfA"
   },
   "outputs": [],
   "source": [
    "# import io\n",
    "# df = pd.read_csv(io.BytesIO(uploaded['dataset-of-10s.csv']))\n",
    "\n",
    "df = pd.read_csv('spotify_hit_predicter_dataset/dataset-of-10s.csv')"
   ]
  },
  {
   "cell_type": "code",
   "execution_count": 5,
   "metadata": {
    "ExecuteTime": {
     "end_time": "2020-08-11T10:26:28.437451Z",
     "start_time": "2020-08-11T10:26:28.272893Z"
    },
    "colab": {
     "base_uri": "https://localhost:8080/",
     "height": 745
    },
    "colab_type": "code",
    "id": "l4tiKGX25vxd",
    "outputId": "27cfe925-f630-4b28-b1a7-b80f85a2ac0f"
   },
   "outputs": [
    {
     "data": {
      "text/html": [
       "<div>\n",
       "<style scoped>\n",
       "    .dataframe tbody tr th:only-of-type {\n",
       "        vertical-align: middle;\n",
       "    }\n",
       "\n",
       "    .dataframe tbody tr th {\n",
       "        vertical-align: top;\n",
       "    }\n",
       "\n",
       "    .dataframe thead th {\n",
       "        text-align: right;\n",
       "    }\n",
       "</style>\n",
       "<table border=\"1\" class=\"dataframe\">\n",
       "  <thead>\n",
       "    <tr style=\"text-align: right;\">\n",
       "      <th></th>\n",
       "      <th>track</th>\n",
       "      <th>artist</th>\n",
       "      <th>uri</th>\n",
       "      <th>danceability</th>\n",
       "      <th>energy</th>\n",
       "      <th>key</th>\n",
       "      <th>loudness</th>\n",
       "      <th>mode</th>\n",
       "      <th>speechiness</th>\n",
       "      <th>acousticness</th>\n",
       "      <th>instrumentalness</th>\n",
       "      <th>liveness</th>\n",
       "      <th>valence</th>\n",
       "      <th>tempo</th>\n",
       "      <th>duration_ms</th>\n",
       "      <th>time_signature</th>\n",
       "      <th>chorus_hit</th>\n",
       "      <th>sections</th>\n",
       "      <th>target</th>\n",
       "    </tr>\n",
       "  </thead>\n",
       "  <tbody>\n",
       "    <tr>\n",
       "      <th>0</th>\n",
       "      <td>Wild Things</td>\n",
       "      <td>Alessia Cara</td>\n",
       "      <td>spotify:track:2ZyuwVvV6Z3XJaXIFbspeE</td>\n",
       "      <td>0.741</td>\n",
       "      <td>0.626</td>\n",
       "      <td>1</td>\n",
       "      <td>-4.826</td>\n",
       "      <td>0</td>\n",
       "      <td>0.0886</td>\n",
       "      <td>0.02000</td>\n",
       "      <td>0.000000</td>\n",
       "      <td>0.0828</td>\n",
       "      <td>0.706</td>\n",
       "      <td>108.029</td>\n",
       "      <td>188493</td>\n",
       "      <td>4</td>\n",
       "      <td>41.18681</td>\n",
       "      <td>10</td>\n",
       "      <td>1</td>\n",
       "    </tr>\n",
       "    <tr>\n",
       "      <th>1</th>\n",
       "      <td>Surfboard</td>\n",
       "      <td>Esquivel!</td>\n",
       "      <td>spotify:track:61APOtq25SCMuK0V5w2Kgp</td>\n",
       "      <td>0.447</td>\n",
       "      <td>0.247</td>\n",
       "      <td>5</td>\n",
       "      <td>-14.661</td>\n",
       "      <td>0</td>\n",
       "      <td>0.0346</td>\n",
       "      <td>0.87100</td>\n",
       "      <td>0.814000</td>\n",
       "      <td>0.0946</td>\n",
       "      <td>0.250</td>\n",
       "      <td>155.489</td>\n",
       "      <td>176880</td>\n",
       "      <td>3</td>\n",
       "      <td>33.18083</td>\n",
       "      <td>9</td>\n",
       "      <td>0</td>\n",
       "    </tr>\n",
       "    <tr>\n",
       "      <th>2</th>\n",
       "      <td>Love Someone</td>\n",
       "      <td>Lukas Graham</td>\n",
       "      <td>spotify:track:2JqnpexlO9dmvjUMCaLCLJ</td>\n",
       "      <td>0.550</td>\n",
       "      <td>0.415</td>\n",
       "      <td>9</td>\n",
       "      <td>-6.557</td>\n",
       "      <td>0</td>\n",
       "      <td>0.0520</td>\n",
       "      <td>0.16100</td>\n",
       "      <td>0.000000</td>\n",
       "      <td>0.1080</td>\n",
       "      <td>0.274</td>\n",
       "      <td>172.065</td>\n",
       "      <td>205463</td>\n",
       "      <td>4</td>\n",
       "      <td>44.89147</td>\n",
       "      <td>9</td>\n",
       "      <td>1</td>\n",
       "    </tr>\n",
       "    <tr>\n",
       "      <th>3</th>\n",
       "      <td>Music To My Ears (feat. Tory Lanez)</td>\n",
       "      <td>Keys N Krates</td>\n",
       "      <td>spotify:track:0cjfLhk8WJ3etPTCseKXtk</td>\n",
       "      <td>0.502</td>\n",
       "      <td>0.648</td>\n",
       "      <td>0</td>\n",
       "      <td>-5.698</td>\n",
       "      <td>0</td>\n",
       "      <td>0.0527</td>\n",
       "      <td>0.00513</td>\n",
       "      <td>0.000000</td>\n",
       "      <td>0.2040</td>\n",
       "      <td>0.291</td>\n",
       "      <td>91.837</td>\n",
       "      <td>193043</td>\n",
       "      <td>4</td>\n",
       "      <td>29.52521</td>\n",
       "      <td>7</td>\n",
       "      <td>0</td>\n",
       "    </tr>\n",
       "    <tr>\n",
       "      <th>4</th>\n",
       "      <td>Juju On That Beat (TZ Anthem)</td>\n",
       "      <td>Zay Hilfigerrr &amp; Zayion McCall</td>\n",
       "      <td>spotify:track:1lItf5ZXJc1by9SbPeljFd</td>\n",
       "      <td>0.807</td>\n",
       "      <td>0.887</td>\n",
       "      <td>1</td>\n",
       "      <td>-3.892</td>\n",
       "      <td>1</td>\n",
       "      <td>0.2750</td>\n",
       "      <td>0.00381</td>\n",
       "      <td>0.000000</td>\n",
       "      <td>0.3910</td>\n",
       "      <td>0.780</td>\n",
       "      <td>160.517</td>\n",
       "      <td>144244</td>\n",
       "      <td>4</td>\n",
       "      <td>24.99199</td>\n",
       "      <td>8</td>\n",
       "      <td>1</td>\n",
       "    </tr>\n",
       "    <tr>\n",
       "      <th>...</th>\n",
       "      <td>...</td>\n",
       "      <td>...</td>\n",
       "      <td>...</td>\n",
       "      <td>...</td>\n",
       "      <td>...</td>\n",
       "      <td>...</td>\n",
       "      <td>...</td>\n",
       "      <td>...</td>\n",
       "      <td>...</td>\n",
       "      <td>...</td>\n",
       "      <td>...</td>\n",
       "      <td>...</td>\n",
       "      <td>...</td>\n",
       "      <td>...</td>\n",
       "      <td>...</td>\n",
       "      <td>...</td>\n",
       "      <td>...</td>\n",
       "      <td>...</td>\n",
       "      <td>...</td>\n",
       "    </tr>\n",
       "    <tr>\n",
       "      <th>815</th>\n",
       "      <td>Angel Eyes</td>\n",
       "      <td>Love And Theft</td>\n",
       "      <td>spotify:track:63w0QA1wiV7QhF9jeiHETF</td>\n",
       "      <td>0.656</td>\n",
       "      <td>0.696</td>\n",
       "      <td>8</td>\n",
       "      <td>-5.917</td>\n",
       "      <td>1</td>\n",
       "      <td>0.0261</td>\n",
       "      <td>0.01340</td>\n",
       "      <td>0.000000</td>\n",
       "      <td>0.0753</td>\n",
       "      <td>0.966</td>\n",
       "      <td>108.015</td>\n",
       "      <td>186627</td>\n",
       "      <td>4</td>\n",
       "      <td>51.35629</td>\n",
       "      <td>9</td>\n",
       "      <td>1</td>\n",
       "    </tr>\n",
       "    <tr>\n",
       "      <th>816</th>\n",
       "      <td>Black Beatles</td>\n",
       "      <td>Rae Sremmurd Featuring Gucci Mane</td>\n",
       "      <td>spotify:track:6fujklziTHa8uoM5OQSfIo</td>\n",
       "      <td>0.794</td>\n",
       "      <td>0.632</td>\n",
       "      <td>0</td>\n",
       "      <td>-6.163</td>\n",
       "      <td>1</td>\n",
       "      <td>0.0649</td>\n",
       "      <td>0.14200</td>\n",
       "      <td>0.000000</td>\n",
       "      <td>0.1280</td>\n",
       "      <td>0.355</td>\n",
       "      <td>145.926</td>\n",
       "      <td>291893</td>\n",
       "      <td>4</td>\n",
       "      <td>27.31067</td>\n",
       "      <td>11</td>\n",
       "      <td>1</td>\n",
       "    </tr>\n",
       "    <tr>\n",
       "      <th>817</th>\n",
       "      <td>Tus Jefes No Me Quieren</td>\n",
       "      <td>Grupo Ensamble</td>\n",
       "      <td>spotify:track:16OHjORdq0UoVilD02ZzXN</td>\n",
       "      <td>0.637</td>\n",
       "      <td>0.547</td>\n",
       "      <td>3</td>\n",
       "      <td>-8.430</td>\n",
       "      <td>0</td>\n",
       "      <td>0.0970</td>\n",
       "      <td>0.17400</td>\n",
       "      <td>0.000017</td>\n",
       "      <td>0.1070</td>\n",
       "      <td>0.963</td>\n",
       "      <td>180.054</td>\n",
       "      <td>224256</td>\n",
       "      <td>4</td>\n",
       "      <td>27.26188</td>\n",
       "      <td>11</td>\n",
       "      <td>0</td>\n",
       "    </tr>\n",
       "    <tr>\n",
       "      <th>818</th>\n",
       "      <td>Bad Things</td>\n",
       "      <td>Machine Gun Kelly x Camila Cabello</td>\n",
       "      <td>spotify:track:1PSBzsahR2AKwLJgx8ehBj</td>\n",
       "      <td>0.697</td>\n",
       "      <td>0.691</td>\n",
       "      <td>2</td>\n",
       "      <td>-4.757</td>\n",
       "      <td>1</td>\n",
       "      <td>0.1460</td>\n",
       "      <td>0.21400</td>\n",
       "      <td>0.000000</td>\n",
       "      <td>0.1850</td>\n",
       "      <td>0.305</td>\n",
       "      <td>137.853</td>\n",
       "      <td>239293</td>\n",
       "      <td>4</td>\n",
       "      <td>43.70931</td>\n",
       "      <td>10</td>\n",
       "      <td>1</td>\n",
       "    </tr>\n",
       "    <tr>\n",
       "      <th>819</th>\n",
       "      <td>sekao</td>\n",
       "      <td>Delayde</td>\n",
       "      <td>spotify:track:4c2TiYoJHIjEPZ5syRZhsY</td>\n",
       "      <td>0.616</td>\n",
       "      <td>0.375</td>\n",
       "      <td>5</td>\n",
       "      <td>-16.921</td>\n",
       "      <td>1</td>\n",
       "      <td>0.0405</td>\n",
       "      <td>0.90500</td>\n",
       "      <td>0.896000</td>\n",
       "      <td>0.3320</td>\n",
       "      <td>0.333</td>\n",
       "      <td>159.972</td>\n",
       "      <td>132000</td>\n",
       "      <td>4</td>\n",
       "      <td>33.38382</td>\n",
       "      <td>6</td>\n",
       "      <td>0</td>\n",
       "    </tr>\n",
       "  </tbody>\n",
       "</table>\n",
       "<p>820 rows × 19 columns</p>\n",
       "</div>"
      ],
      "text/plain": [
       "                                   track                              artist  \\\n",
       "0                            Wild Things                        Alessia Cara   \n",
       "1                              Surfboard                           Esquivel!   \n",
       "2                           Love Someone                        Lukas Graham   \n",
       "3    Music To My Ears (feat. Tory Lanez)                       Keys N Krates   \n",
       "4          Juju On That Beat (TZ Anthem)      Zay Hilfigerrr & Zayion McCall   \n",
       "..                                   ...                                 ...   \n",
       "815                           Angel Eyes                      Love And Theft   \n",
       "816                        Black Beatles   Rae Sremmurd Featuring Gucci Mane   \n",
       "817              Tus Jefes No Me Quieren                      Grupo Ensamble   \n",
       "818                           Bad Things  Machine Gun Kelly x Camila Cabello   \n",
       "819                                sekao                             Delayde   \n",
       "\n",
       "                                      uri  danceability  energy  key  \\\n",
       "0    spotify:track:2ZyuwVvV6Z3XJaXIFbspeE         0.741   0.626    1   \n",
       "1    spotify:track:61APOtq25SCMuK0V5w2Kgp         0.447   0.247    5   \n",
       "2    spotify:track:2JqnpexlO9dmvjUMCaLCLJ         0.550   0.415    9   \n",
       "3    spotify:track:0cjfLhk8WJ3etPTCseKXtk         0.502   0.648    0   \n",
       "4    spotify:track:1lItf5ZXJc1by9SbPeljFd         0.807   0.887    1   \n",
       "..                                    ...           ...     ...  ...   \n",
       "815  spotify:track:63w0QA1wiV7QhF9jeiHETF         0.656   0.696    8   \n",
       "816  spotify:track:6fujklziTHa8uoM5OQSfIo         0.794   0.632    0   \n",
       "817  spotify:track:16OHjORdq0UoVilD02ZzXN         0.637   0.547    3   \n",
       "818  spotify:track:1PSBzsahR2AKwLJgx8ehBj         0.697   0.691    2   \n",
       "819  spotify:track:4c2TiYoJHIjEPZ5syRZhsY         0.616   0.375    5   \n",
       "\n",
       "     loudness  mode  speechiness  acousticness  instrumentalness  liveness  \\\n",
       "0      -4.826     0       0.0886       0.02000          0.000000    0.0828   \n",
       "1     -14.661     0       0.0346       0.87100          0.814000    0.0946   \n",
       "2      -6.557     0       0.0520       0.16100          0.000000    0.1080   \n",
       "3      -5.698     0       0.0527       0.00513          0.000000    0.2040   \n",
       "4      -3.892     1       0.2750       0.00381          0.000000    0.3910   \n",
       "..        ...   ...          ...           ...               ...       ...   \n",
       "815    -5.917     1       0.0261       0.01340          0.000000    0.0753   \n",
       "816    -6.163     1       0.0649       0.14200          0.000000    0.1280   \n",
       "817    -8.430     0       0.0970       0.17400          0.000017    0.1070   \n",
       "818    -4.757     1       0.1460       0.21400          0.000000    0.1850   \n",
       "819   -16.921     1       0.0405       0.90500          0.896000    0.3320   \n",
       "\n",
       "     valence    tempo  duration_ms  time_signature  chorus_hit  sections  \\\n",
       "0      0.706  108.029       188493               4    41.18681        10   \n",
       "1      0.250  155.489       176880               3    33.18083         9   \n",
       "2      0.274  172.065       205463               4    44.89147         9   \n",
       "3      0.291   91.837       193043               4    29.52521         7   \n",
       "4      0.780  160.517       144244               4    24.99199         8   \n",
       "..       ...      ...          ...             ...         ...       ...   \n",
       "815    0.966  108.015       186627               4    51.35629         9   \n",
       "816    0.355  145.926       291893               4    27.31067        11   \n",
       "817    0.963  180.054       224256               4    27.26188        11   \n",
       "818    0.305  137.853       239293               4    43.70931        10   \n",
       "819    0.333  159.972       132000               4    33.38382         6   \n",
       "\n",
       "     target  \n",
       "0         1  \n",
       "1         0  \n",
       "2         1  \n",
       "3         0  \n",
       "4         1  \n",
       "..      ...  \n",
       "815       1  \n",
       "816       1  \n",
       "817       0  \n",
       "818       1  \n",
       "819       0  \n",
       "\n",
       "[820 rows x 19 columns]"
      ]
     },
     "execution_count": 5,
     "metadata": {},
     "output_type": "execute_result"
    }
   ],
   "source": [
    "df.head(820)"
   ]
  },
  {
   "cell_type": "code",
   "execution_count": 6,
   "metadata": {
    "ExecuteTime": {
     "end_time": "2020-08-11T10:26:28.792503Z",
     "start_time": "2020-08-11T10:26:28.444433Z"
    },
    "colab": {
     "base_uri": "https://localhost:8080/",
     "height": 317
    },
    "colab_type": "code",
    "id": "UH7oGwqU5xRN",
    "outputId": "d843535e-d626-4a26-ec0f-7cfb5e2e0af0"
   },
   "outputs": [
    {
     "data": {
      "text/html": [
       "<div>\n",
       "<style scoped>\n",
       "    .dataframe tbody tr th:only-of-type {\n",
       "        vertical-align: middle;\n",
       "    }\n",
       "\n",
       "    .dataframe tbody tr th {\n",
       "        vertical-align: top;\n",
       "    }\n",
       "\n",
       "    .dataframe thead th {\n",
       "        text-align: right;\n",
       "    }\n",
       "</style>\n",
       "<table border=\"1\" class=\"dataframe\">\n",
       "  <thead>\n",
       "    <tr style=\"text-align: right;\">\n",
       "      <th></th>\n",
       "      <th>danceability</th>\n",
       "      <th>energy</th>\n",
       "      <th>key</th>\n",
       "      <th>loudness</th>\n",
       "      <th>mode</th>\n",
       "      <th>speechiness</th>\n",
       "      <th>acousticness</th>\n",
       "      <th>instrumentalness</th>\n",
       "      <th>liveness</th>\n",
       "      <th>valence</th>\n",
       "      <th>tempo</th>\n",
       "      <th>duration_ms</th>\n",
       "      <th>time_signature</th>\n",
       "      <th>chorus_hit</th>\n",
       "      <th>sections</th>\n",
       "      <th>target</th>\n",
       "    </tr>\n",
       "  </thead>\n",
       "  <tbody>\n",
       "    <tr>\n",
       "      <th>count</th>\n",
       "      <td>6398.000000</td>\n",
       "      <td>6398.000000</td>\n",
       "      <td>6398.000000</td>\n",
       "      <td>6398.000000</td>\n",
       "      <td>6398.000000</td>\n",
       "      <td>6398.000000</td>\n",
       "      <td>6398.000000</td>\n",
       "      <td>6398.000000</td>\n",
       "      <td>6398.000000</td>\n",
       "      <td>6398.000000</td>\n",
       "      <td>6398.000000</td>\n",
       "      <td>6.398000e+03</td>\n",
       "      <td>6398.000000</td>\n",
       "      <td>6398.000000</td>\n",
       "      <td>6398.000000</td>\n",
       "      <td>6398.000000</td>\n",
       "    </tr>\n",
       "    <tr>\n",
       "      <th>mean</th>\n",
       "      <td>0.568163</td>\n",
       "      <td>0.667756</td>\n",
       "      <td>5.283526</td>\n",
       "      <td>-7.589796</td>\n",
       "      <td>0.645514</td>\n",
       "      <td>0.098018</td>\n",
       "      <td>0.216928</td>\n",
       "      <td>0.165293</td>\n",
       "      <td>0.196700</td>\n",
       "      <td>0.443734</td>\n",
       "      <td>122.353871</td>\n",
       "      <td>2.367042e+05</td>\n",
       "      <td>3.930916</td>\n",
       "      <td>41.028399</td>\n",
       "      <td>10.316505</td>\n",
       "      <td>0.500000</td>\n",
       "    </tr>\n",
       "    <tr>\n",
       "      <th>std</th>\n",
       "      <td>0.191103</td>\n",
       "      <td>0.240721</td>\n",
       "      <td>3.606216</td>\n",
       "      <td>5.234592</td>\n",
       "      <td>0.478395</td>\n",
       "      <td>0.097224</td>\n",
       "      <td>0.296835</td>\n",
       "      <td>0.318736</td>\n",
       "      <td>0.166148</td>\n",
       "      <td>0.245776</td>\n",
       "      <td>29.847389</td>\n",
       "      <td>8.563698e+04</td>\n",
       "      <td>0.377469</td>\n",
       "      <td>19.568827</td>\n",
       "      <td>3.776011</td>\n",
       "      <td>0.500039</td>\n",
       "    </tr>\n",
       "    <tr>\n",
       "      <th>min</th>\n",
       "      <td>0.062200</td>\n",
       "      <td>0.000251</td>\n",
       "      <td>0.000000</td>\n",
       "      <td>-46.655000</td>\n",
       "      <td>0.000000</td>\n",
       "      <td>0.022500</td>\n",
       "      <td>0.000000</td>\n",
       "      <td>0.000000</td>\n",
       "      <td>0.016700</td>\n",
       "      <td>0.000000</td>\n",
       "      <td>39.369000</td>\n",
       "      <td>2.985300e+04</td>\n",
       "      <td>0.000000</td>\n",
       "      <td>0.000000</td>\n",
       "      <td>2.000000</td>\n",
       "      <td>0.000000</td>\n",
       "    </tr>\n",
       "    <tr>\n",
       "      <th>25%</th>\n",
       "      <td>0.447000</td>\n",
       "      <td>0.533000</td>\n",
       "      <td>2.000000</td>\n",
       "      <td>-8.425000</td>\n",
       "      <td>0.000000</td>\n",
       "      <td>0.038825</td>\n",
       "      <td>0.008533</td>\n",
       "      <td>0.000000</td>\n",
       "      <td>0.096800</td>\n",
       "      <td>0.240000</td>\n",
       "      <td>98.091250</td>\n",
       "      <td>1.932068e+05</td>\n",
       "      <td>4.000000</td>\n",
       "      <td>28.059135</td>\n",
       "      <td>8.000000</td>\n",
       "      <td>0.000000</td>\n",
       "    </tr>\n",
       "    <tr>\n",
       "      <th>50%</th>\n",
       "      <td>0.588000</td>\n",
       "      <td>0.712500</td>\n",
       "      <td>5.000000</td>\n",
       "      <td>-6.096500</td>\n",
       "      <td>1.000000</td>\n",
       "      <td>0.057200</td>\n",
       "      <td>0.067050</td>\n",
       "      <td>0.000017</td>\n",
       "      <td>0.126000</td>\n",
       "      <td>0.434000</td>\n",
       "      <td>121.070000</td>\n",
       "      <td>2.212465e+05</td>\n",
       "      <td>4.000000</td>\n",
       "      <td>36.265365</td>\n",
       "      <td>10.000000</td>\n",
       "      <td>0.500000</td>\n",
       "    </tr>\n",
       "    <tr>\n",
       "      <th>75%</th>\n",
       "      <td>0.710000</td>\n",
       "      <td>0.857000</td>\n",
       "      <td>8.000000</td>\n",
       "      <td>-4.601250</td>\n",
       "      <td>1.000000</td>\n",
       "      <td>0.112000</td>\n",
       "      <td>0.311000</td>\n",
       "      <td>0.057650</td>\n",
       "      <td>0.249000</td>\n",
       "      <td>0.628000</td>\n",
       "      <td>141.085000</td>\n",
       "      <td>2.593165e+05</td>\n",
       "      <td>4.000000</td>\n",
       "      <td>48.292538</td>\n",
       "      <td>12.000000</td>\n",
       "      <td>1.000000</td>\n",
       "    </tr>\n",
       "    <tr>\n",
       "      <th>max</th>\n",
       "      <td>0.981000</td>\n",
       "      <td>0.999000</td>\n",
       "      <td>11.000000</td>\n",
       "      <td>-0.149000</td>\n",
       "      <td>1.000000</td>\n",
       "      <td>0.956000</td>\n",
       "      <td>0.996000</td>\n",
       "      <td>0.995000</td>\n",
       "      <td>0.982000</td>\n",
       "      <td>0.976000</td>\n",
       "      <td>210.977000</td>\n",
       "      <td>1.734201e+06</td>\n",
       "      <td>5.000000</td>\n",
       "      <td>213.154990</td>\n",
       "      <td>88.000000</td>\n",
       "      <td>1.000000</td>\n",
       "    </tr>\n",
       "  </tbody>\n",
       "</table>\n",
       "</div>"
      ],
      "text/plain": [
       "       danceability       energy          key     loudness         mode  \\\n",
       "count   6398.000000  6398.000000  6398.000000  6398.000000  6398.000000   \n",
       "mean       0.568163     0.667756     5.283526    -7.589796     0.645514   \n",
       "std        0.191103     0.240721     3.606216     5.234592     0.478395   \n",
       "min        0.062200     0.000251     0.000000   -46.655000     0.000000   \n",
       "25%        0.447000     0.533000     2.000000    -8.425000     0.000000   \n",
       "50%        0.588000     0.712500     5.000000    -6.096500     1.000000   \n",
       "75%        0.710000     0.857000     8.000000    -4.601250     1.000000   \n",
       "max        0.981000     0.999000    11.000000    -0.149000     1.000000   \n",
       "\n",
       "       speechiness  acousticness  instrumentalness     liveness      valence  \\\n",
       "count  6398.000000   6398.000000       6398.000000  6398.000000  6398.000000   \n",
       "mean      0.098018      0.216928          0.165293     0.196700     0.443734   \n",
       "std       0.097224      0.296835          0.318736     0.166148     0.245776   \n",
       "min       0.022500      0.000000          0.000000     0.016700     0.000000   \n",
       "25%       0.038825      0.008533          0.000000     0.096800     0.240000   \n",
       "50%       0.057200      0.067050          0.000017     0.126000     0.434000   \n",
       "75%       0.112000      0.311000          0.057650     0.249000     0.628000   \n",
       "max       0.956000      0.996000          0.995000     0.982000     0.976000   \n",
       "\n",
       "             tempo   duration_ms  time_signature   chorus_hit     sections  \\\n",
       "count  6398.000000  6.398000e+03     6398.000000  6398.000000  6398.000000   \n",
       "mean    122.353871  2.367042e+05        3.930916    41.028399    10.316505   \n",
       "std      29.847389  8.563698e+04        0.377469    19.568827     3.776011   \n",
       "min      39.369000  2.985300e+04        0.000000     0.000000     2.000000   \n",
       "25%      98.091250  1.932068e+05        4.000000    28.059135     8.000000   \n",
       "50%     121.070000  2.212465e+05        4.000000    36.265365    10.000000   \n",
       "75%     141.085000  2.593165e+05        4.000000    48.292538    12.000000   \n",
       "max     210.977000  1.734201e+06        5.000000   213.154990    88.000000   \n",
       "\n",
       "            target  \n",
       "count  6398.000000  \n",
       "mean      0.500000  \n",
       "std       0.500039  \n",
       "min       0.000000  \n",
       "25%       0.000000  \n",
       "50%       0.500000  \n",
       "75%       1.000000  \n",
       "max       1.000000  "
      ]
     },
     "execution_count": 6,
     "metadata": {},
     "output_type": "execute_result"
    }
   ],
   "source": [
    "df.describe()"
   ]
  },
  {
   "cell_type": "code",
   "execution_count": 7,
   "metadata": {
    "ExecuteTime": {
     "end_time": "2020-08-11T10:26:28.815440Z",
     "start_time": "2020-08-11T10:26:28.800481Z"
    },
    "colab": {},
    "colab_type": "code",
    "id": "PHsRoxYp6EI6"
   },
   "outputs": [],
   "source": [
    "X = df.iloc[:, 3:16].values # upper bound is excluded \n",
    "y = df.iloc[:, 18].values"
   ]
  },
  {
   "cell_type": "code",
   "execution_count": 8,
   "metadata": {
    "ExecuteTime": {
     "end_time": "2020-08-11T10:26:28.977010Z",
     "start_time": "2020-08-11T10:26:28.819430Z"
    },
    "colab": {
     "base_uri": "https://localhost:8080/",
     "height": 34
    },
    "colab_type": "code",
    "id": "lEaP0K49Cnhl",
    "outputId": "4daa13b5-c504-49db-f8fc-aa0916b8905f"
   },
   "outputs": [
    {
     "data": {
      "text/plain": [
       "13"
      ]
     },
     "execution_count": 8,
     "metadata": {},
     "output_type": "execute_result"
    }
   ],
   "source": [
    "len(X[0])"
   ]
  },
  {
   "cell_type": "code",
   "execution_count": 9,
   "metadata": {
    "ExecuteTime": {
     "end_time": "2020-08-11T10:26:30.433272Z",
     "start_time": "2020-08-11T10:26:28.981994Z"
    },
    "colab": {},
    "colab_type": "code",
    "id": "Smf2qgVMVup_"
   },
   "outputs": [],
   "source": [
    "# # Splitting the dataset into the Training set and Test set\n",
    "from sklearn.model_selection import train_test_split\n",
    "X_train, X_test, y_train, y_test = train_test_split(X, y, test_size = 0.2, random_state = 0)"
   ]
  },
  {
   "cell_type": "code",
   "execution_count": 10,
   "metadata": {
    "ExecuteTime": {
     "end_time": "2020-08-11T10:26:30.453220Z",
     "start_time": "2020-08-11T10:26:30.437261Z"
    },
    "colab": {
     "base_uri": "https://localhost:8080/",
     "height": 34
    },
    "colab_type": "code",
    "id": "ACnFUxSCZh2f",
    "outputId": "06fc65c7-ef79-4873-ca0a-fd697a066bd9"
   },
   "outputs": [
    {
     "data": {
      "text/plain": [
       "(5118, 13)"
      ]
     },
     "execution_count": 10,
     "metadata": {},
     "output_type": "execute_result"
    }
   ],
   "source": [
    "X_train.shape"
   ]
  },
  {
   "cell_type": "code",
   "execution_count": 11,
   "metadata": {
    "ExecuteTime": {
     "end_time": "2020-08-11T10:26:30.591848Z",
     "start_time": "2020-08-11T10:26:30.462203Z"
    },
    "colab": {},
    "colab_type": "code",
    "id": "2VZWtWN3Vuzh"
   },
   "outputs": [],
   "source": [
    "# # Feature Scaling\n",
    "from sklearn.preprocessing import StandardScaler\n",
    "sc = StandardScaler()\n",
    "X_train = sc.fit_transform(X_train)\n",
    "X_test = sc.transform(X_test)"
   ]
  },
  {
   "cell_type": "code",
   "execution_count": 12,
   "metadata": {
    "ExecuteTime": {
     "end_time": "2020-08-11T10:26:31.738779Z",
     "start_time": "2020-08-11T10:26:30.597833Z"
    },
    "colab": {
     "base_uri": "https://localhost:8080/",
     "height": 683
    },
    "colab_type": "code",
    "id": "2TgTtKPCVu9B",
    "outputId": "08ba98c7-4684-484b-d222-17ddfbf766f8"
   },
   "outputs": [
    {
     "data": {
      "image/png": "[encoded data removed]",
      "text/plain": [
       "<Figure size 864x864 with 1 Axes>"
      ]
     },
     "metadata": {
      "needs_background": "light"
     },
     "output_type": "display_data"
    }
   ],
   "source": [
    "# to draw the neural network in matplotlib\n",
    "\n",
    "def draw_neural_net(ax, left, right, bottom, top, layer_sizes):\n",
    "    n_layers = len(layer_sizes)\n",
    "    v_spacing = (top - bottom)/float(max(layer_sizes))\n",
    "    h_spacing = (right - left)/float(len(layer_sizes) - 1)\n",
    "    # Nodes\n",
    "    for n, layer_size in enumerate(layer_sizes):\n",
    "        layer_top = v_spacing*(layer_size - 1)/2. + (top + bottom)/2.\n",
    "        for m in range(layer_size):\n",
    "            circle = plt.Circle((n*h_spacing + left, layer_top - m*v_spacing), v_spacing/4.,\n",
    "                                color='w', ec='k', zorder=4)\n",
    "            ax.add_artist(circle)\n",
    "    # Edges\n",
    "    for n, (layer_size_a, layer_size_b) in enumerate(zip(layer_sizes[:-1], layer_sizes[1:])):\n",
    "        layer_top_a = v_spacing*(layer_size_a - 1)/2. + (top + bottom)/2.\n",
    "        layer_top_b = v_spacing*(layer_size_b - 1)/2. + (top + bottom)/2.\n",
    "        for m in range(layer_size_a):\n",
    "            for o in range(layer_size_b):\n",
    "                line = plt.Line2D([n*h_spacing + left, (n + 1)*h_spacing + left],\n",
    "                                  [layer_top_a - m*v_spacing, layer_top_b - o*v_spacing], c='k')\n",
    "                ax.add_artist(line)\n",
    "\n",
    "                \n",
    "fig = plt.figure(figsize=(12, 12))\n",
    "ax = fig.gca()\n",
    "ax.axis('off')\n",
    "draw_neural_net(ax, .1, .9, .1, .9, [15,  11, 11 , 1])"
   ]
  },
  {
   "cell_type": "code",
   "execution_count": 13,
   "metadata": {
    "ExecuteTime": {
     "end_time": "2020-08-11T10:26:36.343569Z",
     "start_time": "2020-08-11T10:26:31.759724Z"
    },
    "colab": {},
    "colab_type": "code",
    "id": "ybue4mf0XXhe"
   },
   "outputs": [
    {
     "name": "stderr",
     "output_type": "stream",
     "text": [
      "Using TensorFlow backend.\n"
     ]
    }
   ],
   "source": [
    "import tensorflow as tf\n",
    "import keras\n",
    "from tensorflow.keras.models import Sequential\n",
    "from tensorflow.keras.layers import Dense\n",
    "\n",
    "classifier = Sequential()"
   ]
  },
  {
   "cell_type": "code",
   "execution_count": 14,
   "metadata": {
    "ExecuteTime": {
     "end_time": "2020-08-11T10:26:39.463516Z",
     "start_time": "2020-08-11T10:26:36.346564Z"
    },
    "colab": {},
    "colab_type": "code",
    "id": "uufJxWXlXc_J"
   },
   "outputs": [],
   "source": [
    "# # Hidden layer 1\n",
    "classifier.add(Dense(activation='relu', units=9,\n",
    "                     kernel_initializer='uniform', input_dim=13))"
   ]
  },
  {
   "cell_type": "code",
   "execution_count": 15,
   "metadata": {
    "ExecuteTime": {
     "end_time": "2020-08-11T10:26:39.501415Z",
     "start_time": "2020-08-11T10:26:39.466509Z"
    },
    "colab": {},
    "colab_type": "code",
    "id": "wf7pQW-KXdip"
   },
   "outputs": [],
   "source": [
    "# # # Hidden layer 2\n",
    "classifier.add(Dense(activation='relu', units=9, kernel_initializer='uniform'))"
   ]
  },
  {
   "cell_type": "code",
   "execution_count": 16,
   "metadata": {
    "ExecuteTime": {
     "end_time": "2020-08-11T10:26:39.666972Z",
     "start_time": "2020-08-11T10:26:39.503411Z"
    },
    "colab": {},
    "colab_type": "code",
    "id": "suGkg10PXd2b"
   },
   "outputs": [],
   "source": [
    "# the output layer\n",
    "# if dealing with several categories, will need multiple output neurons, and activation function would be softmax\n",
    "classifier.add(Dense(activation=\"sigmoid\", units=1, kernel_initializer=\"uniform\")) \n",
    "\n",
    "# for getting the probabilistic o/p use sigmoid "
   ]
  },
  {
   "cell_type": "code",
   "execution_count": 17,
   "metadata": {
    "ExecuteTime": {
     "end_time": "2020-08-11T10:26:39.907329Z",
     "start_time": "2020-08-11T10:26:39.675951Z"
    },
    "colab": {},
    "colab_type": "code",
    "id": "Yxw78jY5XeIH"
   },
   "outputs": [],
   "source": [
    "# Compiling the ANN\n",
    "# adam is stochastic gradient descent algorithm\n",
    "# use logarithmic loss function with sigmoid function (binary_crossentropy with 1 category)\n",
    "# metric expect analysing parameters in a list, e.g. accuract\n",
    "\n",
    "classifier.compile(optimizer = 'adam', loss = 'binary_crossentropy', metrics = ['accuracy'])"
   ]
  },
  {
   "cell_type": "code",
   "execution_count": 18,
   "metadata": {
    "ExecuteTime": {
     "end_time": "2020-08-11T10:28:35.965852Z",
     "start_time": "2020-08-11T10:26:39.910322Z"
    },
    "colab": {
     "base_uri": "https://localhost:8080/",
     "height": 1000
    },
    "colab_type": "code",
    "id": "0JkTR5StXrcT",
    "outputId": "a3c66a59-d8b2-42f5-d0ad-c4ed40d1f5fa",
    "scrolled": false
   },
   "outputs": [
    {
     "name": "stdout",
     "output_type": "stream",
     "text": [
      "Train on 5118 samples\n",
      "Epoch 1/50\n",
      "5118/5118 [==============================] - 4s 740us/sample - loss: 0.5416 - accuracy: 0.7466\n",
      "Epoch 2/50\n",
      "5118/5118 [==============================] - 4s 700us/sample - loss: 0.4165 - accuracy: 0.8114\n",
      "Epoch 3/50\n",
      "5118/5118 [==============================] - 3s 531us/sample - loss: 0.4039 - accuracy: 0.8200\n",
      "Epoch 4/50\n",
      "5118/5118 [==============================] - 3s 536us/sample - loss: 0.3995 - accuracy: 0.8193\n",
      "Epoch 5/50\n",
      "5118/5118 [==============================] - 3s 517us/sample - loss: 0.3982 - accuracy: 0.8267\n",
      "Epoch 6/50\n",
      "5118/5118 [==============================] - 3s 529us/sample - loss: 0.3950 - accuracy: 0.8263\n",
      "Epoch 7/50\n",
      "5118/5118 [==============================] - 3s 515us/sample - loss: 0.3945 - accuracy: 0.8224\n",
      "Epoch 8/50\n",
      "5118/5118 [==============================] - 3s 556us/sample - loss: 0.3937 - accuracy: 0.8269\n",
      "Epoch 9/50\n",
      "5118/5118 [==============================] - 3s 497us/sample - loss: 0.3923 - accuracy: 0.8249\n",
      "Epoch 10/50\n",
      "5118/5118 [==============================] - 3s 507us/sample - loss: 0.3910 - accuracy: 0.8247\n",
      "Epoch 11/50\n",
      "5118/5118 [==============================] - 3s 494us/sample - loss: 0.3900 - accuracy: 0.8240\n",
      "Epoch 12/50\n",
      "5118/5118 [==============================] - 2s 405us/sample - loss: 0.3884 - accuracy: 0.8255\n",
      "Epoch 13/50\n",
      "5118/5118 [==============================] - 2s 409us/sample - loss: 0.3872 - accuracy: 0.8259\n",
      "Epoch 14/50\n",
      "5118/5118 [==============================] - 2s 456us/sample - loss: 0.3866 - accuracy: 0.8259\n",
      "Epoch 15/50\n",
      "5118/5118 [==============================] - 2s 423us/sample - loss: 0.3847 - accuracy: 0.8284\n",
      "Epoch 16/50\n",
      "5118/5118 [==============================] - 2s 413us/sample - loss: 0.3837 - accuracy: 0.8288\n",
      "Epoch 17/50\n",
      "5118/5118 [==============================] - 2s 410us/sample - loss: 0.3830 - accuracy: 0.8296\n",
      "Epoch 18/50\n",
      "5118/5118 [==============================] - 2s 436us/sample - loss: 0.3820 - accuracy: 0.8263\n",
      "Epoch 19/50\n",
      "5118/5118 [==============================] - 2s 407us/sample - loss: 0.3813 - accuracy: 0.8294\n",
      "Epoch 20/50\n",
      "5118/5118 [==============================] - 2s 440us/sample - loss: 0.3796 - accuracy: 0.8283\n",
      "Epoch 21/50\n",
      "5118/5118 [==============================] - 2s 417us/sample - loss: 0.3795 - accuracy: 0.8308\n",
      "Epoch 22/50\n",
      "5118/5118 [==============================] - 2s 459us/sample - loss: 0.3796 - accuracy: 0.8288\n",
      "Epoch 23/50\n",
      "5118/5118 [==============================] - 2s 417us/sample - loss: 0.3792 - accuracy: 0.8279\n",
      "Epoch 24/50\n",
      "5118/5118 [==============================] - 2s 405us/sample - loss: 0.3777 - accuracy: 0.8310\n",
      "Epoch 25/50\n",
      "5118/5118 [==============================] - 2s 404us/sample - loss: 0.3771 - accuracy: 0.8326\n",
      "Epoch 26/50\n",
      "5118/5118 [==============================] - 2s 405us/sample - loss: 0.3771 - accuracy: 0.8343\n",
      "Epoch 27/50\n",
      "5118/5118 [==============================] - 2s 411us/sample - loss: 0.3767 - accuracy: 0.8345\n",
      "Epoch 28/50\n",
      "5118/5118 [==============================] - 2s 411us/sample - loss: 0.3757 - accuracy: 0.8331\n",
      "Epoch 29/50\n",
      "5118/5118 [==============================] - 2s 468us/sample - loss: 0.3754 - accuracy: 0.8341\n",
      "Epoch 30/50\n",
      "5118/5118 [==============================] - 2s 414us/sample - loss: 0.3751 - accuracy: 0.8322\n",
      "Epoch 31/50\n",
      "5118/5118 [==============================] - 2s 414us/sample - loss: 0.3746 - accuracy: 0.8310\n",
      "Epoch 32/50\n",
      "5118/5118 [==============================] - 2s 428us/sample - loss: 0.3740 - accuracy: 0.8341\n",
      "Epoch 33/50\n",
      "5118/5118 [==============================] - 2s 407us/sample - loss: 0.3744 - accuracy: 0.8347\n",
      "Epoch 34/50\n",
      "5118/5118 [==============================] - 2s 420us/sample - loss: 0.3735 - accuracy: 0.8337\n",
      "Epoch 35/50\n",
      "5118/5118 [==============================] - 2s 414us/sample - loss: 0.3733 - accuracy: 0.8333\n",
      "Epoch 36/50\n",
      "5118/5118 [==============================] - 2s 448us/sample - loss: 0.3729 - accuracy: 0.8335\n",
      "Epoch 37/50\n",
      "5118/5118 [==============================] - 2s 442us/sample - loss: 0.3724 - accuracy: 0.8326\n",
      "Epoch 38/50\n",
      "5118/5118 [==============================] - 2s 412us/sample - loss: 0.3723 - accuracy: 0.8343\n",
      "Epoch 39/50\n",
      "5118/5118 [==============================] - 2s 410us/sample - loss: 0.3710 - accuracy: 0.8339\n",
      "Epoch 40/50\n",
      "5118/5118 [==============================] - 2s 413us/sample - loss: 0.3707 - accuracy: 0.8359\n",
      "Epoch 41/50\n",
      "5118/5118 [==============================] - 2s 445us/sample - loss: 0.3707 - accuracy: 0.8357\n",
      "Epoch 42/50\n",
      "5118/5118 [==============================] - 2s 416us/sample - loss: 0.3691 - accuracy: 0.8370\n",
      "Epoch 43/50\n",
      "5118/5118 [==============================] - 2s 414us/sample - loss: 0.3697 - accuracy: 0.8318\n",
      "Epoch 44/50\n",
      "5118/5118 [==============================] - 2s 469us/sample - loss: 0.3690 - accuracy: 0.8353\n",
      "Epoch 45/50\n",
      "5118/5118 [==============================] - 2s 410us/sample - loss: 0.3680 - accuracy: 0.8343\n",
      "Epoch 46/50\n",
      "5118/5118 [==============================] - 2s 414us/sample - loss: 0.3685 - accuracy: 0.8365\n",
      "Epoch 47/50\n",
      "5118/5118 [==============================] - 2s 421us/sample - loss: 0.3677 - accuracy: 0.8349\n",
      "Epoch 48/50\n",
      "5118/5118 [==============================] - 2s 424us/sample - loss: 0.3676 - accuracy: 0.8349\n",
      "Epoch 49/50\n",
      "5118/5118 [==============================] - 2s 413us/sample - loss: 0.3667 - accuracy: 0.8357\n",
      "Epoch 50/50\n",
      "5118/5118 [==============================] - 2s 420us/sample - loss: 0.3663 - accuracy: 0.8374\n"
     ]
    },
    {
     "data": {
      "text/plain": [
       "<tensorflow.python.keras.callbacks.History at 0x26b44e16cc8>"
      ]
     },
     "execution_count": 18,
     "metadata": {},
     "output_type": "execute_result"
    }
   ],
   "source": [
    "classifier.fit(x=X_train, \n",
    "               y=y_train, \n",
    "               epochs=50,\n",
    "           batch_size=10)"
   ]
  },
  {
   "cell_type": "code",
   "execution_count": 19,
   "metadata": {
    "ExecuteTime": {
     "end_time": "2020-08-11T10:28:36.127427Z",
     "start_time": "2020-08-11T10:28:35.968843Z"
    },
    "colab": {},
    "colab_type": "code",
    "id": "_1Tkp5XBXsNU"
   },
   "outputs": [],
   "source": [
    "# Predicting the Test set results\n",
    "y_pred = classifier.predict(X_test)"
   ]
  },
  {
   "cell_type": "code",
   "execution_count": 20,
   "metadata": {
    "ExecuteTime": {
     "end_time": "2020-08-11T10:28:36.137392Z",
     "start_time": "2020-08-11T10:28:36.129414Z"
    },
    "colab": {
     "base_uri": "https://localhost:8080/",
     "height": 136
    },
    "colab_type": "code",
    "id": "04ob28y08YVL",
    "outputId": "4c30c5b7-f129-481d-b236-5fa231ad3102"
   },
   "outputs": [
    {
     "data": {
      "text/plain": [
       "array([[5.1254511e-01],\n",
       "       [4.8390716e-01],\n",
       "       [1.2718266e-04],\n",
       "       ...,\n",
       "       [1.8183318e-03],\n",
       "       [8.4018457e-01],\n",
       "       [9.1879022e-01]], dtype=float32)"
      ]
     },
     "execution_count": 20,
     "metadata": {},
     "output_type": "execute_result"
    }
   ],
   "source": [
    "y_pred"
   ]
  },
  {
   "cell_type": "code",
   "execution_count": 21,
   "metadata": {
    "ExecuteTime": {
     "end_time": "2020-08-11T10:28:36.242967Z",
     "start_time": "2020-08-11T10:28:36.139387Z"
    },
    "colab": {},
    "colab_type": "code",
    "id": "RSphKJukYir9"
   },
   "outputs": [],
   "source": [
    "y_pred = (y_pred > 0.5)"
   ]
  },
  {
   "cell_type": "code",
   "execution_count": 22,
   "metadata": {
    "ExecuteTime": {
     "end_time": "2020-08-11T10:28:36.359188Z",
     "start_time": "2020-08-11T10:28:36.249706Z"
    },
    "colab": {
     "base_uri": "https://localhost:8080/",
     "height": 51
    },
    "colab_type": "code",
    "id": "jI5NXbpVYmPk",
    "outputId": "cafa84c3-b768-4a4b-ea8c-635418dc06c7"
   },
   "outputs": [
    {
     "data": {
      "text/plain": [
       "array([[482, 133],\n",
       "       [ 73, 592]], dtype=int64)"
      ]
     },
     "execution_count": 22,
     "metadata": {},
     "output_type": "execute_result"
    }
   ],
   "source": [
    "# Making the Confusion Matrix\n",
    "from sklearn.metrics import confusion_matrix\n",
    "cm = confusion_matrix(y_test, y_pred)\n",
    "cm"
   ]
  },
  {
   "cell_type": "code",
   "execution_count": 23,
   "metadata": {
    "ExecuteTime": {
     "end_time": "2020-08-11T10:28:36.737779Z",
     "start_time": "2020-08-11T10:28:36.363136Z"
    },
    "colab": {
     "base_uri": "https://localhost:8080/",
     "height": 51
    },
    "colab_type": "code",
    "id": "UCPi7IGhYjKK",
    "outputId": "ee48e322-9435-4a33-c0cc-a10eb4c78dcc"
   },
   "outputs": [
    {
     "name": "stdout",
     "output_type": "stream",
     "text": [
      "1280/1280 - 0s - loss: 0.3533 - accuracy: 0.8391\n"
     ]
    },
    {
     "data": {
      "text/plain": [
       "{'loss': 0.3533294815570116, 'accuracy': 0.8390625}"
      ]
     },
     "execution_count": 23,
     "metadata": {},
     "output_type": "execute_result"
    }
   ],
   "source": [
    "result = classifier.evaluate(X_test,  y_test, verbose=2)\n",
    "\n",
    "dict(zip(classifier.metrics_names, result))  # zip pairs 1-1, 2-2, 3-3"
   ]
  },
  {
   "cell_type": "code",
   "execution_count": 24,
   "metadata": {
    "ExecuteTime": {
     "end_time": "2020-08-11T10:28:36.752740Z",
     "start_time": "2020-08-11T10:28:36.740772Z"
    },
    "colab": {
     "base_uri": "https://localhost:8080/",
     "height": 255
    },
    "colab_type": "code",
    "id": "7ctYQkSGcwf-",
    "outputId": "2ac41cee-3345-439c-ddbd-805c3bbde46f"
   },
   "outputs": [
    {
     "name": "stdout",
     "output_type": "stream",
     "text": [
      "Model: \"sequential\"\n",
      "_________________________________________________________________\n",
      "Layer (type)                 Output Shape              Param #   \n",
      "=================================================================\n",
      "dense (Dense)                (None, 9)                 126       \n",
      "_________________________________________________________________\n",
      "dense_1 (Dense)              (None, 9)                 90        \n",
      "_________________________________________________________________\n",
      "dense_2 (Dense)              (None, 1)                 10        \n",
      "=================================================================\n",
      "Total params: 226\n",
      "Trainable params: 226\n",
      "Non-trainable params: 0\n",
      "_________________________________________________________________\n"
     ]
    }
   ],
   "source": [
    "classifier.summary()"
   ]
  },
  {
   "cell_type": "code",
   "execution_count": 58,
   "metadata": {
    "ExecuteTime": {
     "end_time": "2020-08-11T10:44:58.565680Z",
     "start_time": "2020-08-11T10:44:58.561693Z"
    },
    "colab": {
     "base_uri": "https://localhost:8080/",
     "height": 343
    },
    "colab_type": "code",
    "id": "rtkvrpURyuz7",
    "outputId": "8560b126-b643-4f50-8747-45341cd09e93"
   },
   "outputs": [],
   "source": [
    "# to install tekore \n",
    "\n",
    "#!pip install tekore"
   ]
  },
  {
   "cell_type": "code",
   "execution_count": 29,
   "metadata": {
    "ExecuteTime": {
     "end_time": "2020-08-11T10:28:40.519458Z",
     "start_time": "2020-08-11T10:28:39.802915Z"
    },
    "colab": {},
    "colab_type": "code",
    "id": "RIM1NNaumzZI"
   },
   "outputs": [],
   "source": [
    "# add client id, client_secret to get token id\n",
    "\n",
    "import tekore as tk\n",
    "\n",
    "client_id = '723c44fb374043889a3580352e5e1b0a'\n",
    "client_secret = 'ccccdd229b3e4cb3b70dcaf1f359403a'\n",
    "\n",
    "app_token = tk.request_client_token(client_id, client_secret)"
   ]
  },
  {
   "cell_type": "code",
   "execution_count": 87,
   "metadata": {
    "ExecuteTime": {
     "end_time": "2020-08-11T11:03:08.882949Z",
     "start_time": "2020-08-11T11:03:01.877660Z"
    },
    "colab": {
     "base_uri": "https://localhost:8080/",
     "height": 34
    },
    "colab_type": "code",
    "id": "H0yfrkUAm1SV",
    "outputId": "f7f2eedb-27f9-43b8-cd68-a4ff2983411d"
   },
   "outputs": [
    {
     "name": "stdout",
     "output_type": "stream",
     "text": [
      "hard to face reality\n",
      "Hard 2 Face Reality  -  Poo Bear\n"
     ]
    }
   ],
   "source": [
    "# use the tokend to access the api \n",
    "spotify = tk.Spotify(app_token)\n",
    " \n",
    "#search = input()\n",
    "#tracks, = spotify.search(search, types=('track', ), limit=1)\n",
    "#track = tracks.items[0]\n",
    "\n",
    "#takes the keyboard input \n",
    "s2 =input() \n",
    "\n",
    "#searches songs based on name and artist \n",
    "artists, = spotify.search(s2, limit=1)\n",
    "\n",
    "#gives the output \n",
    "a = artists\n",
    "\n",
    "# look into the api to get the required info \n",
    "an = a.items[0].artists[0].name   # artist name\n",
    "  \n",
    "sn = a.items[0].name # song name\n",
    "idx = a.items[0].id # song id\n",
    "print(sn,' - ', an)  \n",
    "\n",
    "l = spotify.track_audio_features(idx)  # gives the songs features based on song id "
   ]
  },
  {
   "cell_type": "code",
   "execution_count": 89,
   "metadata": {
    "ExecuteTime": {
     "end_time": "2020-08-11T11:03:15.229199Z",
     "start_time": "2020-08-11T11:03:15.223215Z"
    },
    "colab": {},
    "colab_type": "code",
    "id": "UoVip5qu1lhj",
    "scrolled": true
   },
   "outputs": [
    {
     "name": "stdout",
     "output_type": "stream",
     "text": [
      "[0.625, 0.626, 7, -5.281, 1, 0.0293, 0.22, 0, 0.228, 0.282, 142.043, 196570, 4]\n"
     ]
    }
   ],
   "source": [
    "# creating a list of values need to feed into the nn\n",
    "l2 = [l.danceability,l.energy,l.key,l.loudness,l.mode,l.speechiness,l.acousticness,l.instrumentalness,l.liveness,\n",
    "      l.valence,l.tempo,l.duration_ms,l.time_signature]\n",
    "print(l2)    "
   ]
  },
  {
   "cell_type": "code",
   "execution_count": 90,
   "metadata": {
    "ExecuteTime": {
     "end_time": "2020-08-11T11:03:16.024491Z",
     "start_time": "2020-08-11T11:03:16.014482Z"
    },
    "colab": {},
    "colab_type": "code",
    "id": "5EcRM0rt9BKM"
   },
   "outputs": [
    {
     "data": {
      "text/plain": [
       "array([[ 0.29747543, -0.17335069,  0.4760136 ,  0.44112512,  0.74104827,\n",
       "        -0.7068342 ,  0.01036227, -0.51862874,  0.18845985, -0.6578658 ,\n",
       "         0.65949288, -0.46874529,  0.18303334]])"
      ]
     },
     "execution_count": 90,
     "metadata": {},
     "output_type": "execute_result"
    }
   ],
   "source": [
    "# l2 =np.reshape(l2, (-1,1))\n",
    "\n",
    "# sc = StandardScaler()\n",
    "# le = sc.fit_transform(l2)\n",
    " \n",
    "# l3 = le.T\n",
    "# l3\n",
    "\n",
    "# standard scalar normalizes the data based on columns, so replacing a data in X with the new data and normalizing it.\n",
    "X[3200] = l2\n",
    "X[3200] \n",
    "\n",
    "sc = StandardScaler()\n",
    "prd = sc.fit_transform(X)\n",
    " \n",
    "l2 =np.reshape(prd[3200] ,(-1,1))\n",
    " \n",
    "l3=l2.T\n",
    "l3"
   ]
  },
  {
   "cell_type": "code",
   "execution_count": 91,
   "metadata": {
    "ExecuteTime": {
     "end_time": "2020-08-11T11:03:17.196669Z",
     "start_time": "2020-08-11T11:03:16.866077Z"
    }
   },
   "outputs": [
    {
     "name": "stdout",
     "output_type": "stream",
     "text": [
      "94.1405029296875 %\n",
      "Hard 2 Face Reality  -  Poo Bear\n"
     ]
    }
   ],
   "source": [
    "yy = classifier.predict(l3)\n",
    "# y = np.round(y)\n",
    "p =float(yy[0]*100) \n",
    "print(p,'%')\n",
    " \n",
    "#print('Song :', track.name)\n",
    "print(sn,' - ', an)"
   ]
  },
  {
   "cell_type": "code",
   "execution_count": null,
   "metadata": {},
   "outputs": [],
   "source": []
  },
  {
   "cell_type": "code",
   "execution_count": null,
   "metadata": {},
   "outputs": [],
   "source": []
  }
 ],
 "metadata": {
  "accelerator": "TPU",
  "colab": {
   "collapsed_sections": [],
   "name": "Spotify_Hit_Predicter.ipynb",
   "provenance": []
  },
  "kernelspec": {
   "display_name": "Python 3",
   "language": "python",
   "name": "python3"
  },
  "language_info": {
   "codemirror_mode": {
    "name": "ipython",
    "version": 3
   },
   "file_extension": ".py",
   "mimetype": "text/x-python",
   "name": "python",
   "nbconvert_exporter": "python",
   "pygments_lexer": "ipython3",
   "version": "3.7.7"
  },
  "toc": {
   "base_numbering": 1,
   "nav_menu": {},
   "number_sections": true,
   "sideBar": true,
   "skip_h1_title": false,
   "title_cell": "Table of Contents",
   "title_sidebar": "Contents",
   "toc_cell": false,
   "toc_position": {},
   "toc_section_display": true,
   "toc_window_display": false
  },
  "varInspector": {
   "cols": {
    "lenName": 16,
    "lenType": 16,
    "lenVar": 40
   },
   "kernels_config": {
    "python": {
     "delete_cmd_postfix": "",
     "delete_cmd_prefix": "del ",
     "library": "var_list.py",
     "varRefreshCmd": "print(var_dic_list())"
    },
    "r": {
     "delete_cmd_postfix": ") ",
     "delete_cmd_prefix": "rm(",
     "library": "var_list.r",
     "varRefreshCmd": "cat(var_dic_list()) "
    }
   },
   "types_to_exclude": [
    "module",
    "function",
    "builtin_function_or_method",
    "instance",
    "_Feature"
   ],
   "window_display": false
  }
 },
 "nbformat": 4,
 "nbformat_minor": 1
}
