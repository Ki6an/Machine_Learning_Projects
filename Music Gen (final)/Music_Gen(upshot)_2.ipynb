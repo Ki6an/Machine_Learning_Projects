{
  "nbformat": 4,
  "nbformat_minor": 0,
  "metadata": {
    "colab": {
      "name": "Music_Gen(upshot)_2.ipynb",
      "provenance": [],
      "collapsed_sections": [],
      "mount_file_id": "1G4rgf9Z-PRzF757BQ6SH2SOp2HUbaluu",
      "authorship_tag": "ABX9TyP88EtLU5q8+Udl+u33jbMJ",
      "include_colab_link": true
    },
    "kernelspec": {
      "name": "python3",
      "display_name": "Python 3"
    },
    "accelerator": "GPU"
  },
  "cells": [
    {
      "cell_type": "markdown",
      "metadata": {
        "id": "view-in-github",
        "colab_type": "text"
      },
      "source": [
        "<a href=\"https://colab.research.google.com/github/Ki6an/Machine_Learning_Projects/blob/master/Music%20Gen%20(final)/Music_Gen(upshot)_2.ipynb\" target=\"_parent\"><img src=\"https://colab.research.google.com/assets/colab-badge.svg\" alt=\"Open In Colab\"/></a>"
      ]
    },
    {
      "cell_type": "code",
      "metadata": {
        "id": "75gX_Uj3PVCE",
        "colab_type": "code",
        "colab": {}
      },
      "source": [
        "# all the data are imported from drive \n",
        "import glob\n",
        "import pickle\n",
        "import numpy as np\n",
        "import tensorflow as tf\n",
        "import tqdm \n",
        "from music21 import converter, instrument, note, chord, stream\n",
        "from keras.models import Sequential\n",
        "from keras.layers import Dense\n",
        "from keras.layers import Dropout\n",
        "from keras.layers import LSTM\n",
        "from keras.layers import Activation\n",
        "from keras.utils import np_utils\n",
        "from keras.callbacks import ModelCheckpoint"
      ],
      "execution_count": 4,
      "outputs": []
    },
    {
      "cell_type": "code",
      "metadata": {
        "id": "dli0eeqC5lPB",
        "colab_type": "code",
        "colab": {}
      },
      "source": [
        "def get_notes():\n",
        "    \n",
        "    \"\"\" Extracts all notes and chords from midi files in the ./midi_songs \n",
        "    directory and creates a file with all notes in string format\"\"\"\n",
        "    \n",
        "    notes = []\n",
        "\n",
        "    for i, file in enumerate(glob.glob(\"/content/drive/My Drive/Machine Learning /Projects/Music_Gen(upshot)/dataset/*.mid\")):\n",
        "        midi = converter.parse(file)\n",
        "\n",
        "        # print(\"Parsing %s\" % file)\n",
        "        print(i,' ',end='')\n",
        "\n",
        "        notes_to_parse = None\n",
        "\n",
        "        try: # file has instrument parts\n",
        "            s2 = instrument.partitionByInstrument(midi)\n",
        "            notes_to_parse = s2.parts[0].recurse() \n",
        "        except: # file has notes in a flat structure\n",
        "            notes_to_parse = midi.flat.notes\n",
        "\n",
        "        for element in notes_to_parse:\n",
        "            if isinstance(element, note.Note):\n",
        "                notes.append(str(element.pitch))\n",
        "            elif isinstance(element, chord.Chord):\n",
        "                notes.append('.'.join(str(n) for n in element.normalOrder))\n",
        "\n",
        "    with open('/content/drive/My Drive/Machine Learning /Projects/Music_Gen(upshot)/notes', 'wb') as filepath:\n",
        "        pickle.dump(notes, filepath)\n",
        "\n",
        "    return notes"
      ],
      "execution_count": 5,
      "outputs": []
    },
    {
      "cell_type": "code",
      "metadata": {
        "id": "E_mjD5cLFYRL",
        "colab_type": "code",
        "colab": {
          "base_uri": "https://localhost:8080/",
          "height": 54
        },
        "outputId": "afbc2e2f-961e-4b9d-a264-fd38a5692452"
      },
      "source": [
        "# preaparing the data to feed into the rnn\n",
        "notes = get_notes()\n",
        "vocab = sorted(set(item for item in notes))\n",
        "vocab_size = len(vocab)\n",
        "notes_to_int = dict((note, number) for number, note in enumerate(vocab))\n",
        "notes = get_notes()\n",
        "\n",
        "idx2char = np.array(vocab)\n",
        "\n",
        "def vectorize_string(notes):\n",
        "  return np.array([notes_to_int[x] for x in notes])\n",
        "\n",
        "vectorized_songs = vectorize_string(notes)\n",
        "len(vectorized_songs), notes[5]"
      ],
      "execution_count": 6,
      "outputs": [
        {
          "output_type": "stream",
          "text": [
            "0  1  2  3  4  5  6  7  8  9  10  11  12  13  14  15  16  17  18  19  20  21  22  23  24  25  26  27  28  29  30  31  32  33  34  35  36  37  38  39  40  41  42  43  44  45  46  47  48  49  50  51  52  53  54  55  56  57  58  59  60  61  62  63  64  65  66  67  68  69  70  71  72  73  74  75  76  77  78  79  80  81  82  83  84  85  86  87  88  89  90  91  92  93  94  95  96  97  98  99  100  101  102  103  104  105  106  107  108  109  110  111  112  113  114  115  116  117  118  119  120  121  122  123  124  125  126  127  128  129  130  131  132  133  134  135  136  137  138  139  140  141  142  143  144  145  146  147  148  149  150  151  152  153  154  155  156  157  158  159  160  161  162  163  164  165  166  167  168  169  170  171  172  173  174  175  176  177  178  179  180  181  182  183  184  185  186  187  188  189  190  191  192  193  194  195  196  197  198  199  200  201  202  203  204  205  206  207  208  209  210  211  212  213  214  215  216  217  218  219  220  221  222  223  224  225  226  227  228  229  230  231  232  233  234  235  236  237  238  239  240  241  242  243  244  245  246  247  248  249  250  251  252  253  254  255  256  257  258  259  260  261  262  263  264  265  266  267  268  269  270  271  272  273  274  275  276  277  278  279  280  281  282  283  284  285  286  287  288  289  290  291  0  1  2  3  4  5  6  7  8  9  10  11  12  13  14  15  16  17  18  19  20  21  22  23  24  25  26  27  28  29  30  31  32  33  34  35  36  37  38  39  40  41  42  43  44  45  46  47  48  49  50  51  52  53  54  55  56  57  58  59  60  61  62  63  64  65  66  67  68  69  70  71  72  73  74  75  76  77  78  79  80  81  82  83  84  85  86  87  88  89  90  91  92  93  94  95  96  97  98  99  100  101  102  103  104  105  106  107  108  109  110  111  112  113  114  115  116  117  118  119  120  121  122  123  124  125  126  127  128  129  130  131  132  133  134  135  136  137  138  139  140  141  142  143  144  145  146  147  148  149  150  151  152  153  154  155  156  157  158  159  160  161  162  163  164  165  166  167  168  169  170  171  172  173  174  175  176  177  178  179  180  181  182  183  184  185  186  187  188  189  190  191  192  193  194  195  196  197  198  199  200  201  202  203  204  205  206  207  208  209  210  211  212  213  214  215  216  217  218  219  220  221  222  223  224  225  226  227  228  229  230  231  232  233  234  235  236  237  238  239  240  241  242  243  244  245  246  247  248  249  250  251  252  253  254  255  256  257  258  259  260  261  262  263  264  265  266  267  268  269  270  271  272  273  274  275  276  277  278  279  280  281  282  283  284  285  286  287  288  289  290  291  "
          ],
          "name": "stdout"
        },
        {
          "output_type": "execute_result",
          "data": {
            "text/plain": [
              "(515757, '5.11')"
            ]
          },
          "metadata": {
            "tags": []
          },
          "execution_count": 6
        }
      ]
    },
    {
      "cell_type": "code",
      "metadata": {
        "id": "YdprezqfM15J",
        "colab_type": "code",
        "colab": {
          "base_uri": "https://localhost:8080/",
          "height": 34
        },
        "outputId": "3b31e7f0-b1af-4e27-c9c6-009ffa5b9de6"
      },
      "source": [
        "def get_batch(vectorized_songs, seq_length, batch_size):\n",
        "\n",
        "  # the length of the vectorized songs string\n",
        "  n = vectorized_songs.shape[0] - 1\n",
        "  # randomly choose the starting indices for the examples in the training batch\n",
        "  idx = np.random.choice(n-seq_length, batch_size)\n",
        "\n",
        "\n",
        "  input_batch = [vectorized_songs[i:i+seq_length] for i in idx]\n",
        "  output_batch = [vectorized_songs[i+1:i+seq_length+1] for i in idx]\n",
        "\n",
        "  # x_batch, y_batch provide the true inputs and targets for network training\n",
        "  x_batch = np.reshape(input_batch, [batch_size, seq_length])\n",
        "  y_batch = np.reshape(output_batch, [batch_size, seq_length])\n",
        "  return x_batch, y_batch\n",
        "\n",
        "\n",
        "x_batch, y_batch = get_batch(vectorized_songs, seq_length=5, batch_size=1)\n",
        "x_batch.shape, y_batch.shape"
      ],
      "execution_count": 7,
      "outputs": [
        {
          "output_type": "execute_result",
          "data": {
            "text/plain": [
              "((1, 5), (1, 5))"
            ]
          },
          "metadata": {
            "tags": []
          },
          "execution_count": 7
        }
      ]
    },
    {
      "cell_type": "code",
      "metadata": {
        "id": "0kM2wmXQ5yc8",
        "colab_type": "code",
        "colab": {
          "base_uri": "https://localhost:8080/",
          "height": 255
        },
        "outputId": "9df7ce27-1bdd-460d-a4c6-d73554b94eb1"
      },
      "source": [
        "# building the model\n",
        "# Import Tensorflow 2.0\n",
        "%tensorflow_version 2.x\n",
        "import tensorflow as tf \n",
        "\n",
        "# Import all remaining packages\n",
        "import numpy as np\n",
        "import os\n",
        "import time\n",
        "import functools\n",
        "from IPython import display as ipythondisplay\n",
        "from tqdm import tqdm\n",
        "!apt-get install abcmidi timidity > /dev/null 2>&1\n",
        "\n",
        "from keras.models import Sequential\n",
        "from keras.layers import Dense\n",
        "from keras.layers import LSTM\n",
        "from keras.layers import Embedding\n",
        "\n",
        "def build_model(vocab_size, embedding_dim, rnn_units, batch_size):\n",
        "\n",
        "  model = Sequential()\n",
        "\n",
        "  model.add(Embedding(vocab_size, embedding_dim, batch_input_shape=[batch_size, None]))\n",
        "\n",
        "  model.add(LSTM(rnn_units, return_sequences=True, recurrent_initializer='glorot_uniform',\n",
        "                   recurrent_activation='sigmoid',stateful=True))\n",
        "  \n",
        "  model.add(Dense(vocab_size))     \n",
        "\n",
        "  return model\n",
        "\n",
        "# Build a simple model with default hyperparameters. You will get the \n",
        "#   chance to change these later.\n",
        "model = build_model(vocab_size, embedding_dim=256, rnn_units=1024, batch_size=32)\n",
        "model.summary()"
      ],
      "execution_count": 8,
      "outputs": [
        {
          "output_type": "stream",
          "text": [
            "Model: \"sequential\"\n",
            "_________________________________________________________________\n",
            "Layer (type)                 Output Shape              Param #   \n",
            "=================================================================\n",
            "embedding (Embedding)        (32, None, 256)           123392    \n",
            "_________________________________________________________________\n",
            "lstm (LSTM)                  (32, None, 1024)          5246976   \n",
            "_________________________________________________________________\n",
            "dense (Dense)                (32, None, 482)           494050    \n",
            "=================================================================\n",
            "Total params: 5,864,418\n",
            "Trainable params: 5,864,418\n",
            "Non-trainable params: 0\n",
            "_________________________________________________________________\n"
          ],
          "name": "stdout"
        }
      ]
    },
    {
      "cell_type": "code",
      "metadata": {
        "id": "f49Qm3Jc-LkX",
        "colab_type": "code",
        "colab": {}
      },
      "source": [
        "\n",
        "# for plotting \n",
        "\n",
        "import time\n",
        "import matplotlib.pyplot as plt\n",
        "\n",
        "class PeriodicPlotter:\n",
        "  def __init__(self, sec, xlabel='', ylabel='', scale=None):\n",
        "\n",
        "    self.xlabel = xlabel\n",
        "    self.ylabel = ylabel\n",
        "    self.sec = sec\n",
        "    self.scale = scale\n",
        "\n",
        "    self.tic = time.time()\n",
        "\n",
        "  def plot(self, data):\n",
        "    if time.time() - self.tic > self.sec:\n",
        "      plt.cla()\n",
        "\n",
        "      if self.scale is None:\n",
        "        plt.plot(data)\n",
        "      elif self.scale == 'semilogx':\n",
        "        plt.semilogx(data)\n",
        "      elif self.scale == 'semilogy':\n",
        "        plt.semilogy(data)\n",
        "      elif self.scale == 'loglog':\n",
        "        plt.loglog(data)\n",
        "      else:\n",
        "        raise ValueError(\"unrecognized parameter scale {}\".format(self.scale))\n",
        "\n",
        "      plt.xlabel(self.xlabel); plt.ylabel(self.ylabel)\n",
        "      ipythondisplay.clear_output(wait=True)\n",
        "      ipythondisplay.display(plt.gcf())\n",
        "\n",
        "      self.tic = time.time()"
      ],
      "execution_count": 9,
      "outputs": []
    },
    {
      "cell_type": "code",
      "metadata": {
        "id": "gjhpd4iD-LcW",
        "colab_type": "code",
        "colab": {}
      },
      "source": [
        "### Hyperparameter setting and optimization ###\n",
        "\n",
        "# Optimization parameters:\n",
        "num_training_iterations = 10000  # Increase this to train longer [use 4k]\n",
        "batch_size = 64                 # Experiment between 1 and 64\n",
        "seq_length = 100                 # Experiment between 50 and 500\n",
        "learning_rate = 5e-3            # Experiment between 1e-5 and 1e-1\n",
        "\n",
        "# Model parameters: \n",
        "embedding_dim =  128\n",
        "rnn_units = 512                # Experiment between 1 and 2048\n",
        "\n",
        "# Checkpoint location: \n",
        "checkpoint_dir = './training_checkpoints'\n",
        "checkpoint_prefix = os.path.join(checkpoint_dir, \"my_ckpt\")"
      ],
      "execution_count": 19,
      "outputs": []
    },
    {
      "cell_type": "code",
      "metadata": {
        "id": "iObdcm8ZEQkh",
        "colab_type": "code",
        "colab": {}
      },
      "source": [
        ""
      ],
      "execution_count": 10,
      "outputs": []
    },
    {
      "cell_type": "code",
      "metadata": {
        "id": "cu6rPnPj-kPk",
        "colab_type": "code",
        "colab": {}
      },
      "source": [
        "model = build_model(vocab_size, embedding_dim, rnn_units, batch_size)\n",
        "\n",
        "optimizer = tf.keras.optimizers.Adam(learning_rate)\n",
        "\n",
        "def compute_loss(labels, logits):\n",
        "  loss = tf.keras.losses.sparse_categorical_crossentropy(labels, logits, from_logits=True) \n",
        "  return loss\n",
        "\n",
        "@tf.function\n",
        "def train_step(x, y): \n",
        "\n",
        "  # Use tf.GradientTape()\n",
        "  with tf.GradientTape() as tape:\n",
        "  \n",
        "    y_hat = model(x)\n",
        "  \n",
        "    loss = compute_loss(y, y_hat)\n",
        "\n",
        "  grads = tape.gradient(loss, model.trainable_variables)\n",
        "  \n",
        "  # Apply the gradients to the optimizer so it can update the model accordingly\n",
        "  optimizer.apply_gradients(zip(grads, model.trainable_variables))\n",
        "  return loss\n",
        "\n",
        "##################\n",
        "# Begin training!#\n",
        "##################\n"
      ],
      "execution_count": 20,
      "outputs": []
    },
    {
      "cell_type": "code",
      "metadata": {
        "id": "5jGCw-8t-kSm",
        "colab_type": "code",
        "colab": {
          "base_uri": "https://localhost:8080/",
          "height": 556
        },
        "outputId": "a27a0a2f-6a81-4015-8939-f0debffb3cf2"
      },
      "source": [
        "history = []\n",
        "plotter = PeriodicPlotter(sec=2, xlabel='Iterations', ylabel='Loss')\n",
        "if hasattr(tqdm, '_instances'): tqdm._instances.clear() # clear if it exists\n",
        "\n",
        "for iter in tqdm(range(num_training_iterations)):\n",
        "\n",
        "  # Grab a batch and propagate it through the network\n",
        "  x_batch, y_batch = get_batch(vectorized_songs, seq_length, batch_size)\n",
        "  loss = train_step(x_batch, y_batch)\n",
        "\n",
        "  # Update the progress bar\n",
        "  history.append(loss.numpy().mean())\n",
        "  plotter.plot(history)\n",
        "\n",
        "  # Update the model with the changed weights!\n",
        "  if iter % 100 == 0:     \n",
        "    model.save_weights(checkpoint_prefix)\n",
        "    \n",
        "# Save the trained model and the weights\n",
        "model.save_weights(checkpoint_prefix)\n",
        "# model.save('my_model.h5')"
      ],
      "execution_count": 21,
      "outputs": [
        {
          "output_type": "display_data",
          "data": {
            "image/png": "[encoded data removed]",
            "text/plain": [
              "<Figure size 432x288 with 1 Axes>"
            ]
          },
          "metadata": {
            "tags": [],
            "image/png": {
              "width": 378,
              "height": 261
            }
          }
        },
        {
          "output_type": "stream",
          "text": [
            "100%|██████████| 10000/10000 [04:45<00:00, 35.06it/s]\n"
          ],
          "name": "stderr"
        },
        {
          "output_type": "display_data",
          "data": {
            "image/png": "[encoded data removed]",
            "text/plain": [
              "<Figure size 432x288 with 1 Axes>"
            ]
          },
          "metadata": {
            "tags": [],
            "image/png": {
              "width": 378,
              "height": 261
            },
            "needs_background": "light"
          }
        }
      ]
    },
    {
      "cell_type": "code",
      "metadata": {
        "id": "uJTtGjlo-kVF",
        "colab_type": "code",
        "colab": {
          "base_uri": "https://localhost:8080/",
          "height": 255
        },
        "outputId": "697ac6b0-4ba5-47a7-f7d5-e78c4fb02d4d"
      },
      "source": [
        "model = build_model(vocab_size, embedding_dim, rnn_units, batch_size=1)\n",
        "\n",
        "# Restore the model weights for the last checkpoint after training\n",
        "model.load_weights(tf.train.latest_checkpoint(checkpoint_dir))\n",
        "model.build(tf.TensorShape([1, None]))\n",
        "\n",
        "model.summary()\n",
        "\n",
        "# model = tf.keras.models.load_model('my_model.h5')"
      ],
      "execution_count": 22,
      "outputs": [
        {
          "output_type": "stream",
          "text": [
            "Model: \"sequential_4\"\n",
            "_________________________________________________________________\n",
            "Layer (type)                 Output Shape              Param #   \n",
            "=================================================================\n",
            "embedding_4 (Embedding)      (1, None, 128)            61696     \n",
            "_________________________________________________________________\n",
            "lstm_4 (LSTM)                (1, None, 512)            1312768   \n",
            "_________________________________________________________________\n",
            "dense_4 (Dense)              (1, None, 482)            247266    \n",
            "=================================================================\n",
            "Total params: 1,621,730\n",
            "Trainable params: 1,621,730\n",
            "Non-trainable params: 0\n",
            "_________________________________________________________________\n"
          ],
          "name": "stdout"
        }
      ]
    },
    {
      "cell_type": "code",
      "metadata": {
        "id": "cftfwauseA8p",
        "colab_type": "code",
        "colab": {
          "base_uri": "https://localhost:8080/",
          "height": 34
        },
        "outputId": "280ddc82-eb22-4600-f19d-c90830afe697"
      },
      "source": [
        "vectorized_songs[5]"
      ],
      "execution_count": 23,
      "outputs": [
        {
          "output_type": "execute_result",
          "data": {
            "text/plain": [
              "236"
            ]
          },
          "metadata": {
            "tags": []
          },
          "execution_count": 23
        }
      ]
    },
    {
      "cell_type": "code",
      "metadata": {
        "id": "X__8vqgLIjiG",
        "colab_type": "code",
        "colab": {}
      },
      "source": [
        "def generate_text(model, start_position, generation_length=500):\n",
        " \n",
        "  input_eval = vectorized_songs[start_position:]\n",
        " \n",
        "  input_eval = tf.expand_dims(input_eval, 0)\n",
        " \n",
        "  # Empty string to store our results\n",
        "  text_generated = [notes[start_position]]\n",
        "  # Here batch size == 1\n",
        "  model.reset_states()\n",
        "  tqdm._instances.clear()\n",
        " \n",
        "  for i in tqdm(range(generation_length)):\n",
        " \n",
        "      predictions = model(input_eval)\n",
        "      \n",
        "      predictions = tf.squeeze(predictions, 0)\n",
        " \n",
        "      predicted_id = tf.random.categorical(predictions, num_samples=1)[-1,0].numpy()\n",
        "  \n",
        "      input_eval = tf.expand_dims([predicted_id], 0)\n",
        "\n",
        "      result = idx2char[predicted_id]\n",
        "      \n",
        "      text_generated.append(result)\n",
        "    #   text_generated.append(',')\n",
        "    \n",
        "  return text_generated\n",
        "      \n",
        "#       input_eval = tf.expand_dims([predicted_id], 0)\n",
        "      \n",
        "#       all_val.append(predicted_id)\n",
        " \n",
        "\n",
        "#   return np.concatenate((vectorized_songs[start_position], all_val), axis=None)"
      ],
      "execution_count": 43,
      "outputs": []
    },
    {
      "cell_type": "code",
      "metadata": {
        "id": "7KBmLNFQIjnt",
        "colab_type": "code",
        "colab": {
          "base_uri": "https://localhost:8080/",
          "height": 68
        },
        "outputId": "f9e26f75-99f1-4a4d-aead-c59febed1ecf"
      },
      "source": [
        "generated_values = generate_text(model, start_position= 8080, generation_length=500)\n",
        "generated_values[:10],notes[8080]"
      ],
      "execution_count": 44,
      "outputs": [
        {
          "output_type": "stream",
          "text": [
            "  0%|          | 0/500 [00:50<?, ?it/s]\n",
            "100%|██████████| 500/500 [00:13<00:00, 37.50it/s]\n"
          ],
          "name": "stderr"
        },
        {
          "output_type": "execute_result",
          "data": {
            "text/plain": [
              "(['G5', 'F4', 'G4', 'D4', 'D3', 'B-2', 'F5', 'F4', 'G5', 'B-2'], 'G5')"
            ]
          },
          "metadata": {
            "tags": []
          },
          "execution_count": 44
        }
      ]
    },
    {
      "cell_type": "code",
      "metadata": {
        "id": "OWVdB5HsIjlM",
        "colab_type": "code",
        "colab": {}
      },
      "source": [
        "def create_midi(prediction_output):\n",
        "    \n",
        "    \"\"\" Converts the output from the prediction to notes and create a midi file\n",
        "        from the notes \"\"\"\n",
        "    \n",
        "    offset = 0\n",
        "    output_notes = []\n",
        "\n",
        "    # create note and chord objects based on the values generated by the model\n",
        "    for pattern in prediction_output:\n",
        "        # pattern is a chord\n",
        "        if ('.' in pattern) or pattern.isdigit():\n",
        "            notes_in_chord = pattern.split('.')\n",
        "            notes = []\n",
        "            for current_note in notes_in_chord:\n",
        "                new_note = note.Note(int(current_note))\n",
        "                new_note.storedInstrument = instrument.SnareDrum()\n",
        "                notes.append(new_note)\n",
        "            new_chord = chord.Chord(notes)\n",
        "            new_chord.offset = offset\n",
        "            output_notes.append(new_chord)\n",
        "        # pattern is a note\n",
        "        else:\n",
        "            new_note = note.Note(pattern)\n",
        "            new_note.offset = offset\n",
        "            new_note.storedInstrument = instrument.SnareDrum()\n",
        "            output_notes.append(new_note)\n",
        "\n",
        "        # increase offset each iteration so that notes do not stack\n",
        "        offset += 0.5\n",
        "\n",
        "    midi_stream = stream.Stream(output_notes)\n",
        "\n",
        "    midi_stream.write('midi', fp='8080_mel.mid')\n",
        "\n",
        "    midi_stream.show('midi')"
      ],
      "execution_count": 45,
      "outputs": []
    },
    {
      "cell_type": "code",
      "metadata": {
        "id": "iou3MvLCf5uH",
        "colab_type": "code",
        "colab": {
          "base_uri": "https://localhost:8080/",
          "height": 17
        },
        "outputId": "5ac9420c-a107-4af6-c8dd-cd570d9d763c"
      },
      "source": [
        "type(generated_values), len(generated_values)\n",
        "\n",
        "create_midi(generated_values)\n",
        "\n",
        "# type(predicted_output)"
      ],
      "execution_count": 46,
      "outputs": [
        {
          "output_type": "display_data",
          "data": {
            "text/html": [
              "\n",
              "                <div id='midiPlayerDiv5164219'></div>\n",
              "                <link rel=\"stylesheet\" href=\"//cuthbertLab.github.io/music21j/css/m21.css\"\n",
              "                    type=\"text/css\" />\n",
              "                <script>\n",
              "                require.config({\n",
              "                    paths: {'music21': '//cuthbertLab.github.io/music21j/src/music21'}\n",
              "                });\n",
              "                require(['music21'], function() {\n",
              "                               mp = new music21.miditools.MidiPlayer();\n",
              "                               mp.addPlayer('#midiPlayerDiv5164219');\n",
              "                               mp.base64Load('data:audio/midi;base64,TVRoZAAAAAYAAQABBABNVHJrAAAT8wD/AwAA4ABAAJBPWoQAkEFahACATwAAkENahACAQQAAkD5ahACAQwAAkDJahACAPgAAkC5ahACAMgAAkE1ahACALgAAkEFahACATQAAkE9ahACAQQAAkC5ahACATwAAkE1ahACALgAAkEtahACATQAAkD5ahACASwAAkE1ahACAPgAAkEVahACATQAAkEFahACARQAAkD5ahACAQQAAkE1ahACAPgAAkERahACATQAAkEZaAJA+WoQAgEQAAJAoWoQAgEYAAIA+AACQKVqEAIAoAACQLlqEAIApAACQIlqEAIAuAACQLlqEAIAiAACQMlqEAIAuAACQQVoAkERahACAMgAAkDNahACAQQAAgEQAAJAyWoQAgDMAAJAmWoQAgDIAAJAnWoQAgCYAAJAyWoQAgCcAAJApWoQAgDIAAJA1WoQAgCkAAJApWoQAgDUAAJA1WoQAgCkAAJAyWoQAgDUAAJAzWoQAgDIAAJAnWoQAgDMAAJAyWoQAgCcAAJAjWoQAgDIAAJA1WoQAgCMAAJA0WoQAgDUAAJAzWoQAgDQAAJAiWoQAgDMAAJAxWoQAgCIAAJA3WoQAgDEAAJAyWoQAgDcAAJA6WoQAgDIAAJA3WoQAgDoAAJBDWoQAgDcAAJA6WoQAgEMAAJA6WoQAgDoAAJBLWoQAgDoAAJA3WoQAgEsAAJBKWoQAgDcAAJA6WoQAgEoAAJBPWoQAgDoAAJAuWoQAgE8AAJA/WgCQQ1oAkEZahACALgAAkCdahACAPwAAgEMAAIBGAACQM1qEAIAnAACQN1qEAIAzAACQOFqEAIA3AACQOlqEAIA4AACQP1qEAIA6AACQP1qEAIA/AACQQ1qEAIA/AACQRlqEAIBDAACQM1qEAIBGAACQK1qEAIAzAACQRFqEAIArAACQRFqEAIBEAACQRlqEAIBEAACQS1qEAIBGAACQM1qEAIBLAACQSlqEAIAzAACQSFqEAIBKAACQRlqEAIBIAACQLlqEAIBGAACQM1qEAIAuAACQQ1qEAIAzAACQOlqEAIBDAACQP1qEAIA6AACQRlqEAIA/AACQM1qEAIBGAACQM1qEAIAzAACQRFqEAIAzAACQP1qEAIBEAACQMFqEAIA/AACQQ1qEAIAwAACQOlqEAIBDAACQQVqEAIA6AACQPFqEAIBBAACQP1qEAIA8AACQPVqEAIA/AACQOlqEAIA9AACQOFqEAIA6AACQJ1qEAIA4AACQP1qEAIAnAACQQ1qEAIA/AACQLlqEAIBDAACQRlqEAIAuAACQQVqEAIBGAACQP1qEAIBBAACQPlqEAIA/AACQLlqEAIA+AACQJ1qEAIAuAACQP1qEAIAnAACQOlqEAIA/AACQLlqEAIA6AACQJ1qEAIAuAACQRlqEAIAnAACQOlqEAIBGAACQLlqEAIA6AACQN1qEAIAuAACQOlqEAIA3AACQJ1qEAIA6AACQLlqEAIAnAACQM1qEAIAuAACQJ1qEAIAzAACQOlqEAIAnAACQN1qEAIA6AACQM1qEAIA3AACQRlqEAIAzAACQLlqEAIBGAACQM1qEAIAuAACQPVqEAIAzAACQP1qEAIA9AACQQ1qEAIA/AACQM1qEAIBDAACQRlqEAIAzAACQM1qEAIBGAACQRlqEAIAzAACQN1qEAIBGAACQM1qEAIA3AACQP1qEAIAzAACQLlqEAIA/AACQM1qEAIAuAACQQVqEAIAzAACQM1qEAIBBAACQQ1qEAIAzAACQO1qEAIBDAACQM1qEAIA7AACQOlqEAIAzAACQOlqEAIA6AACQQlqEAIA6AACQPlqEAIBCAACQP1qEAIA+AACQQVqEAIA/AACQPlqEAIBBAACQO1qEAIA+AACQOlqEAIA7AACQPVqEAIA6AACQQVqEAIA9AACQPlqEAIBBAACQOFqEAIA+AACQO1qEAIA4AACQOlqEAIA7AACQO1qEAIA6AACQOlqEAIA7AACQO1qEAIA6AACQOlqEAIA7AACQO1qEAIA6AACQOlqEAIA7AACQO1qEAIA6AACQOlqEAIA7AACQO1qEAIA6AACQOlqEAIA7AACQO1qEAIA6AACQOlqEAIA7AACQO1qEAIA6AACQOlqEAIA7AACQO1qEAIA6AACQOlqEAIA7AACQOFqEAIA6AACQNlqEAIA4AACQNVqEAIA2AACQNlqEAIA1AACQNVqEAIA2AACQOFqEAIA1AACQNlqEAIA4AACQNVqEAIA2AACQNlqEAIA1AACQOFqEAIA2AACQNlqEAIA4AACQQFoAkERaAJBHWoQAgDYAAJA0WoQAgEAAAIBEAACARwAAkDhahACANAAAkD5ahACAOAAAkD1ahACAPgAAkEBahACAPQAAkDpahACAQAAAkDhahACAOgAAkERahACAOAAAkD9aAJBCWoQAgEQAAJBNWoQAgD8AAIBCAACQTlqEAIBNAACQTVqEAIBOAACQP1oAkEJahACATQAAkE1ahACAPwAAgEIAAJBLWoQAgE0AAJA7WoQAgEsAAJBNWoQAgDsAAJBCWgCQRVoAkD1ahACATQAAkDlahACAQgAAgEUAAIA9AACQUVqEAIA5AACQPFqEAIBRAACQVFqEAIA8AACQLVqEAIBUAACQO1qEAIAtAACQL1qEAIA7AACQOVqEAIAvAACQLVqEAIA5AACQO1qEAIAtAACQL1qEAIA7AACQOVqEAIAvAACQLVqEAIA5AACQO1qEAIAtAACQL1qEAIA7AACQPFqEAIAvAACQMFqEAIA8AACQPVqEAIAwAACQMVqEAIA9AACQO1qEAIAxAACQL1qEAIA7AACQOVqEAIAvAACQLVqEAIA5AACQO1qEAIAtAACQL1qEAIA7AACQPFqEAIAvAACQMFqEAIA8AACQOVqEAIAwAACQLVqEAIA5AACQOVqEAIAtAACQLVqEAIA5AACQPFqEAIAtAACQMFqEAIA8AACQSFqEAIAwAACQLVqEAIBIAACQRVqEAIAtAACQLVqEAIBFAACQR1qEAIAtAACQL1qEAIBHAACQQlqEAIAvAACQMVqEAIBCAACQRFqEAIAxAACQNFqEAIBEAACQRVqEAIA0AACQM1qEAIBFAACQRVqEAIAzAACQOVqEAIBFAACQRFqEAIA5AACQOVqEAIBEAACQRVqEAIA5AACQQlqEAIBFAACQKlqEAIBCAACQRVoAkD1ahACAKgAAkEJahACARQAAgD0AAJBFWoQAgEIAAJBIWoQAgEUAAJA/WoQAgEgAAJAwWoQAgD8AAJBDWoQAgDAAAJAuWoQAgEMAAJAzWoQAgC4AAJBDWoQAgDMAAJAuWoQAgEMAAJBGWoQAgC4AAJBGWoQAgEYAAJAzWoQAgEYAAJBEWoQAgDMAAJA1WoQAgEQAAJBBWoQAgDUAAJBIWoQAgEEAAJA5WoQAgEgAAJBGWoQAgDkAAJA8WoQAgEYAAJBFWoQAgDwAAJBBWoQAgEUAAJBGWoQAgEEAAJA+WoQAgEYAAJBGWoQAgD4AAJBBWoQAgEYAAJBKWoQAgEEAAJA/WoQAgEoAAJBBWoQAgD8AAJBLWoQAgEEAAJA3WoQAgEsAAJA8WoQAgDcAAJA/WoQAgDwAAJBNWoQAgD8AAJBBWoQAgE0AAJBPWoQAgEEAAJA6WoQAgE8AAJBNWoQAgDoAAJBSWoQAgE0AAJA6WoQAgFIAAJBNWoQAgDoAAJBLWoQAgE0AAJA3WoQAgEsAAJA6WoQAgDcAAJBNWoQAgDoAAJA+WoQAgE0AAJA+WgCQQVqEAIA+AACQRloAkD5ahACAPgAAgEEAAJA8WgCQP1qEAIBGAACAPgAAkEVaAJA8WoQAgDwAAIA/AACQRloAkD5ahACARQAAgDwAAJA8WoQAgEYAAIA+AACQT1qEAIA8AACQN1qEAIBPAACQQ1qEAIA3AACQRVoAkDxahACAQwAAkEFahACARQAAgDwAAJBEWoQAgEEAAJA8WgCQPlqEAIBEAACQQ1qEAIA8AACAPgAAkEVahACAQwAAkEFahACARQAAkEVahACAQQAAkEZahACARQAAkD5ahACARgAAkEZaAJA+WoQAgD4AAJBFWoQAgEYAAIA+AACQRVqEAIBFAACQSFqEAIBFAACQPlqEAIBIAACQSlqEAIA+AACQS1qEAIBKAACQPFqEAIBLAACQQ1qEAIA8AACQQFoAkEZahACAQwAAkENaAJBGWoQAgEAAAIBGAACQSlqEAIBDAACARgAAkDBahACASgAAkEBaAJBDWoQAgDAAAJBIWoQAgEAAAIBDAACQQFoAkENahACASAAAkEhahACAQAAAgEMAAJBIWoQAgEgAAJBSWoQAgEgAAJA8WgCQQVqEAIBSAACQTVqEAIA8AACAQQAAkFRahACATQAAkEhahACAVAAAkFRahACASAAAkEFaAJBFWoQAgFQAAJBRWoQAgEEAAIBFAACQSFqEAIBRAACQQVoAkEVahACASAAAkE1ahACAQQAAgEUAAJBIWoQAgE0AAJBBWgCQRVqEAIBIAACQSFqEAIBBAACARQAAkEdahACASAAAkEBaAJBDWoQAgEcAAJBIWoQAgEAAAIBDAACQQFoAkENahACASAAAkEhahACAQAAAgEMAAJBKWoQAgEgAAJBIWoQAgEoAAJBGWoQAgEgAAJBKWoQAgEYAAJA8WoQAgEoAAJBIWoQAgDwAAJBFWoQAgEgAAJBIWoQAgEUAAJBMWoQAgEgAAJBFWgCQPFqEAIBMAACQSFqEAIBFAACAPAAAkE1ahACASAAAkEVaAJA8WoQAgE0AAJAwWoQAgEUAAIA8AACQTVqEAIAwAACQRVqEAIBNAACQQ1qEAIBFAACQO1qEAIBDAACQQlqEAIA7AACQQFoAkERaAJBHWoQAgEIAAJBAWoQAgEAAAIBEAACARwAAkERaAJBHWgCQPlqEAIBAAACQQFqEAIBEAACARwAAgD4AAJBEWgCQR1oAkD5ahACAQAAAkEBahACARAAAgEcAAIA+AACQRVqEAIBAAACQOVqEAIBFAACQRVqEAIA5AACQPFqEAIBFAACQQFqEAIA8AACQUVqEAIBAAACQRVoAkD1ahACAUQAAkEBahACARQAAgD0AAJBEWgCQR1qEAIBAAACQQFqEAIBEAACARwAAkEVaAJA9WoQAgEAAAJBFWoQAgEUAAIA9AACQRVoAkD1ahACARQAAkEVahACARQAAgD0AAJBFWoQAgEUAAJA9WgCQQFqEAIBFAACQQFoAkEVahACAPQAAgEAAAJBFWgCQPVqEAIBAAACARQAAkEVaAJA9WoQAgEUAAIA9AACQQFoAkEVahACARQAAgD0AAJA9WoQAgEAAAIBFAACQPloAkEJahACAPQAAkEVaAJA+WoQAgD4AAIBCAACQQlqEAIBFAACAPgAAkD5aAJBCWoQAgEIAAJBFWgCQPlqEAIA+AACAQgAAkD5aAJBCWoQAgEUAAIA+AACQPlqEAIA+AACAQgAAkD5aAJBDWoQAgD4AAJBAWgCQRVqEAIA+AACAQwAAkEBaAJBFWoQAgEAAAIBFAACQRVqEAIBAAACARQAAkEVahACARQAAkDxaAJBBWoQAgEUAAJBHWoQAgDwAAIBBAACQR1oAkEBahACARwAAkD5aAJBDWoQAgEcAAIBAAACQPloAkENahACAPgAAgEMAAJA+WgCQQ1qEAIA+AACAQwAAkEBaAJBFWoQAgD4AAIBDAACQPFoAkEBahACAQAAAgEUAAJA0WoQAgDwAAIBAAACQQFoAkEVahACANAAAkDJahACAQAAAgEUAAJA/WgCQRVqEAIAyAACQPloAkEJahACAPwAAgEUAAJBXWoQAgD4AAIBCAACQOVqEAIBXAACQWFqEAIA5AACQPFqEAIBYAACQVlqEAIA8AACQWFqEAIBWAACQO1qEAIBYAACQVlqEAIA7AACQWFqEAIBWAACQPlqEAIBYAACQVlqEAIA+AACQWFqEAIBWAACQVlqEAIBYAACQVFqEAIBWAACQPFqEAIBUAACQUVqEAIA8AACQVlqEAIBRAACQT1qEAIBWAACQO1qEAIBPAACQTVqEAIA7AACQTFqEAIBNAACQPFqEAIBMAACQSFqEAIA8AACQSlqEAIBIAACQOVqEAIBKAACQSFqEAIA5AACQR1qEAIBIAACQPFqEAIBHAACQSFqEAIA8AACQSlqEAIBIAACQQFqEAIBKAACQSFqEAIBAAACQSVqEAIBIAACQPVqEAIBJAACQSlqEAIA9AACQTFqEAIBKAACQRVoAkD1ahACATAAAkEJaAJBFWoQAgEUAAIA9AACQRFqEAIBCAACARQAAkExahACARAAAkD5ahACATAAAkC1ahACAPgAAkDlahACALQAAkC1ahACAOQAAkDhahACALQAAkCxahACAOAAAkDJahACALAAAkCZahACAMgAAkD5aAJBBWoQAgCYAAJAyWoQAgD4AAIBBAACQQVoAkEdahACAMgAAkCJahACAQQAAgEcAAJAuWoQAgCIAAJA/WgCQQ1qEAIAuAACQMFqEAIA/AACAQwAAkD9aAJBFWoQAgDAAAJArWoQAgD8AAIBFAACQLVqEAIArAACQMFqEAIAtAACQM1qEAIAwAACQRloAkDxahACAMwAAkDVahACARgAAgDwAAJAyWoQAgDUAAJBGWgCQPlqEAIAyAACQLlqEAIBGAACAPgAAkCdahACALgAAkC5ahACAJwAAkD9aAJBFWoQAgC4AAJAwWoQAgD8AAIBFAACQMlqEAIAwAIQAgDIAiAD/LwA=');\n",
              "                        });\n",
              "                </script>"
            ],
            "text/plain": [
              "<IPython.core.display.HTML object>"
            ]
          },
          "metadata": {
            "tags": []
          }
        }
      ]
    },
    {
      "cell_type": "code",
      "metadata": {
        "id": "stq2tFq1i8Dm",
        "colab_type": "code",
        "colab": {}
      },
      "source": [
        ""
      ],
      "execution_count": 33,
      "outputs": []
    }
  ]
}