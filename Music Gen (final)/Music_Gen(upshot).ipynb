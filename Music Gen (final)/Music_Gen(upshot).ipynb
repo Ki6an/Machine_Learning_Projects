{
  "nbformat": 4,
  "nbformat_minor": 0,
  "metadata": {
    "colab": {
      "name": "Music_Gen(upshot).ipynb",
      "provenance": [],
      "mount_file_id": "1G4rgf9Z-PRzF757BQ6SH2SOp2HUbaluu",
      "authorship_tag": "ABX9TyPKBU72MUMzQQAclH2kf22L",
      "include_colab_link": true
    },
    "kernelspec": {
      "name": "python3",
      "display_name": "Python 3"
    },
    "accelerator": "GPU"
  },
  "cells": [
    {
      "cell_type": "markdown",
      "metadata": {
        "id": "view-in-github",
        "colab_type": "text"
      },
      "source": [
        "<a href=\"https://colab.research.google.com/github/Ki6an/Machine_Learning_Projects/blob/master/Music%20Gen%20(final)/Music_Gen(upshot).ipynb\" target=\"_parent\"><img src=\"https://colab.research.google.com/assets/colab-badge.svg\" alt=\"Open In Colab\"/></a>"
      ]
    },
    {
      "cell_type": "code",
      "metadata": {
        "id": "75gX_Uj3PVCE",
        "colab_type": "code",
        "colab": {}
      },
      "source": [
        "# all the data are imported from drive \n",
        "import glob\n",
        "import pickle\n",
        "import numpy as np\n",
        "import tensorflow as tf\n",
        "import tqdm \n",
        "from music21 import converter, instrument, note, chord, stream\n",
        "from keras.models import Sequential\n",
        "from keras.layers import Dense\n",
        "from keras.layers import Dropout\n",
        "from keras.layers import LSTM\n",
        "from keras.layers import Activation\n",
        "from keras.utils import np_utils\n",
        "from keras.callbacks import ModelCheckpoint"
      ],
      "execution_count": 146,
      "outputs": []
    },
    {
      "cell_type": "code",
      "metadata": {
        "id": "dli0eeqC5lPB",
        "colab_type": "code",
        "colab": {}
      },
      "source": [
        "def get_notes():\n",
        "    \n",
        "    \"\"\" Extracts all notes and chords from midi files in the ./midi_songs \n",
        "    directory and creates a file with all notes in string format\"\"\"\n",
        "    \n",
        "    notes = []\n",
        "\n",
        "    for file in glob.glob(\"/content/drive/My Drive/Machine Learning /Projects/Music_Gen(upshot)/dataset/*.mid\"):\n",
        "        midi = converter.parse(file)\n",
        "\n",
        "        print(\"Parsing %s\" % file)\n",
        "\n",
        "        notes_to_parse = None\n",
        "\n",
        "        try: # file has instrument parts\n",
        "            s2 = instrument.partitionByInstrument(midi)\n",
        "            notes_to_parse = s2.parts[0].recurse() \n",
        "        except: # file has notes in a flat structure\n",
        "            notes_to_parse = midi.flat.notes\n",
        "\n",
        "        for element in notes_to_parse:\n",
        "            if isinstance(element, note.Note):\n",
        "                notes.append(str(element.pitch))\n",
        "            elif isinstance(element, chord.Chord):\n",
        "                notes.append('.'.join(str(n) for n in element.normalOrder))\n",
        "\n",
        "    with open('/content/drive/My Drive/Machine Learning /Projects/Music_Gen(upshot)/notes', 'wb') as filepath:\n",
        "        pickle.dump(notes, filepath)\n",
        "\n",
        "    return notes"
      ],
      "execution_count": 147,
      "outputs": []
    },
    {
      "cell_type": "code",
      "metadata": {
        "id": "E_mjD5cLFYRL",
        "colab_type": "code",
        "colab": {
          "base_uri": "https://localhost:8080/",
          "height": 1000
        },
        "outputId": "d90046bb-0492-47f9-ad8b-12fa40bc630e"
      },
      "source": [
        "# preaparing the data to feed into the rnn\n",
        "notes = get_notes()\n",
        "vocab = sorted(set(item for item in notes))\n",
        "vocab_size = len(vocab)\n",
        "notes_to_int = dict((note, number) for number, note in enumerate(vocab))\n",
        "notes = get_notes()\n",
        "\n",
        "idx2char = np.array(vocab)\n",
        "\n",
        "def vectorize_string(notes):\n",
        "  return np.array([notes_to_int[x] for x in notes])\n",
        "\n",
        "vectorized_songs = vectorize_string(notes)\n",
        "len(vectorized_songs), notes[5]"
      ],
      "execution_count": 148,
      "outputs": [
        {
          "output_type": "stream",
          "text": [
            "Parsing /content/drive/My Drive/Machine Learning /Projects/Music_Gen(upshot)/dataset/alb_se1.mid\n",
            "Parsing /content/drive/My Drive/Machine Learning /Projects/Music_Gen(upshot)/dataset/alb_esp6.mid\n",
            "Parsing /content/drive/My Drive/Machine Learning /Projects/Music_Gen(upshot)/dataset/alb_esp5.mid\n",
            "Parsing /content/drive/My Drive/Machine Learning /Projects/Music_Gen(upshot)/dataset/alb_esp3.mid\n",
            "Parsing /content/drive/My Drive/Machine Learning /Projects/Music_Gen(upshot)/dataset/alb_esp4.mid\n",
            "Parsing /content/drive/My Drive/Machine Learning /Projects/Music_Gen(upshot)/dataset/alb_esp2.mid\n",
            "Parsing /content/drive/My Drive/Machine Learning /Projects/Music_Gen(upshot)/dataset/alb_se5.mid\n",
            "Parsing /content/drive/My Drive/Machine Learning /Projects/Music_Gen(upshot)/dataset/alb_se4.mid\n",
            "Parsing /content/drive/My Drive/Machine Learning /Projects/Music_Gen(upshot)/dataset/alb_se3.mid\n",
            "Parsing /content/drive/My Drive/Machine Learning /Projects/Music_Gen(upshot)/dataset/alb_se2.mid\n",
            "Parsing /content/drive/My Drive/Machine Learning /Projects/Music_Gen(upshot)/dataset/alb_se8.mid\n",
            "Parsing /content/drive/My Drive/Machine Learning /Projects/Music_Gen(upshot)/dataset/alb_se7.mid\n",
            "Parsing /content/drive/My Drive/Machine Learning /Projects/Music_Gen(upshot)/dataset/alb_se6.mid\n",
            "Parsing /content/drive/My Drive/Machine Learning /Projects/Music_Gen(upshot)/dataset/bor_ps7.mid\n",
            "Parsing /content/drive/My Drive/Machine Learning /Projects/Music_Gen(upshot)/dataset/br_im2.mid\n",
            "Parsing /content/drive/My Drive/Machine Learning /Projects/Music_Gen(upshot)/dataset/br_im5.mid\n",
            "Parsing /content/drive/My Drive/Machine Learning /Projects/Music_Gen(upshot)/dataset/bor_ps6.mid\n",
            "Parsing /content/drive/My Drive/Machine Learning /Projects/Music_Gen(upshot)/dataset/bor_ps5.mid\n",
            "Parsing /content/drive/My Drive/Machine Learning /Projects/Music_Gen(upshot)/dataset/bor_ps4.mid\n",
            "Parsing /content/drive/My Drive/Machine Learning /Projects/Music_Gen(upshot)/dataset/bor_ps3.mid\n",
            "Parsing /content/drive/My Drive/Machine Learning /Projects/Music_Gen(upshot)/dataset/bor_ps2.mid\n",
            "Parsing /content/drive/My Drive/Machine Learning /Projects/Music_Gen(upshot)/dataset/bor_ps1.mid\n",
            "Parsing /content/drive/My Drive/Machine Learning /Projects/Music_Gen(upshot)/dataset/beethoven_opus90_2.mid\n",
            "Parsing /content/drive/My Drive/Machine Learning /Projects/Music_Gen(upshot)/dataset/beethoven_opus90_1.mid\n",
            "Parsing /content/drive/My Drive/Machine Learning /Projects/Music_Gen(upshot)/dataset/beethoven_opus22_4.mid\n",
            "Parsing /content/drive/My Drive/Machine Learning /Projects/Music_Gen(upshot)/dataset/beethoven_opus22_3.mid\n",
            "Parsing /content/drive/My Drive/Machine Learning /Projects/Music_Gen(upshot)/dataset/beethoven_opus22_2.mid\n",
            "Parsing /content/drive/My Drive/Machine Learning /Projects/Music_Gen(upshot)/dataset/beethoven_opus22_1.mid\n",
            "Parsing /content/drive/My Drive/Machine Learning /Projects/Music_Gen(upshot)/dataset/beethoven_opus10_3.mid\n",
            "Parsing /content/drive/My Drive/Machine Learning /Projects/Music_Gen(upshot)/dataset/beethoven_opus10_2.mid\n",
            "Parsing /content/drive/My Drive/Machine Learning /Projects/Music_Gen(upshot)/dataset/beethoven_opus10_1.mid\n",
            "Parsing /content/drive/My Drive/Machine Learning /Projects/Music_Gen(upshot)/dataset/beethoven_les_adieux_3.mid\n",
            "Parsing /content/drive/My Drive/Machine Learning /Projects/Music_Gen(upshot)/dataset/beethoven_les_adieux_2.mid\n",
            "Parsing /content/drive/My Drive/Machine Learning /Projects/Music_Gen(upshot)/dataset/beethoven_les_adieux_1.mid\n",
            "Parsing /content/drive/My Drive/Machine Learning /Projects/Music_Gen(upshot)/dataset/beethoven_hammerklavier_4.mid\n",
            "Parsing /content/drive/My Drive/Machine Learning /Projects/Music_Gen(upshot)/dataset/beethoven_hammerklavier_3.mid\n",
            "Parsing /content/drive/My Drive/Machine Learning /Projects/Music_Gen(upshot)/dataset/beethoven_hammerklavier_2.mid\n",
            "Parsing /content/drive/My Drive/Machine Learning /Projects/Music_Gen(upshot)/dataset/beethoven_hammerklavier_1.mid\n",
            "Parsing /content/drive/My Drive/Machine Learning /Projects/Music_Gen(upshot)/dataset/bach_850.mid\n",
            "Parsing /content/drive/My Drive/Machine Learning /Projects/Music_Gen(upshot)/dataset/bach_846.mid\n",
            "Parsing /content/drive/My Drive/Machine Learning /Projects/Music_Gen(upshot)/dataset/bach_847.mid\n",
            "Parsing /content/drive/My Drive/Machine Learning /Projects/Music_Gen(upshot)/dataset/appass_3.mid\n",
            "Parsing /content/drive/My Drive/Machine Learning /Projects/Music_Gen(upshot)/dataset/appass_2.mid\n",
            "Parsing /content/drive/My Drive/Machine Learning /Projects/Music_Gen(upshot)/dataset/appass_1.mid\n",
            "Parsing /content/drive/My Drive/Machine Learning /Projects/Music_Gen(upshot)/dataset/brahms_opus1_4.mid\n",
            "Parsing /content/drive/My Drive/Machine Learning /Projects/Music_Gen(upshot)/dataset/brahms_opus1_3.mid\n",
            "Parsing /content/drive/My Drive/Machine Learning /Projects/Music_Gen(upshot)/dataset/brahms_opus117_2.mid\n",
            "Parsing /content/drive/My Drive/Machine Learning /Projects/Music_Gen(upshot)/dataset/brahms_opus1_1.mid\n",
            "Parsing /content/drive/My Drive/Machine Learning /Projects/Music_Gen(upshot)/dataset/brahms_opus117_1.mid\n",
            "Parsing /content/drive/My Drive/Machine Learning /Projects/Music_Gen(upshot)/dataset/brahms_opus1_2.mid\n",
            "Parsing /content/drive/My Drive/Machine Learning /Projects/Music_Gen(upshot)/dataset/br_rhap.mid\n",
            "Parsing /content/drive/My Drive/Machine Learning /Projects/Music_Gen(upshot)/dataset/chp_op18.mid\n",
            "Parsing /content/drive/My Drive/Machine Learning /Projects/Music_Gen(upshot)/dataset/burg_geschwindigkeit.mid\n",
            "Parsing /content/drive/My Drive/Machine Learning /Projects/Music_Gen(upshot)/dataset/chpn_op10_e05.mid\n",
            "Parsing /content/drive/My Drive/Machine Learning /Projects/Music_Gen(upshot)/dataset/chpn_op25_e1.mid\n",
            "Parsing /content/drive/My Drive/Machine Learning /Projects/Music_Gen(upshot)/dataset/burg_spinnerlied.mid\n",
            "Parsing /content/drive/My Drive/Machine Learning /Projects/Music_Gen(upshot)/dataset/burg_gewitter.mid\n",
            "Parsing /content/drive/My Drive/Machine Learning /Projects/Music_Gen(upshot)/dataset/chpn_op7_2.mid\n",
            "Parsing /content/drive/My Drive/Machine Learning /Projects/Music_Gen(upshot)/dataset/burg_trennung.mid\n",
            "Parsing /content/drive/My Drive/Machine Learning /Projects/Music_Gen(upshot)/dataset/burg_sylphen.mid\n",
            "Parsing /content/drive/My Drive/Machine Learning /Projects/Music_Gen(upshot)/dataset/burg_perlen.mid\n",
            "Parsing /content/drive/My Drive/Machine Learning /Projects/Music_Gen(upshot)/dataset/burg_agitato.mid\n",
            "Parsing /content/drive/My Drive/Machine Learning /Projects/Music_Gen(upshot)/dataset/burg_erwachen.mid\n",
            "Parsing /content/drive/My Drive/Machine Learning /Projects/Music_Gen(upshot)/dataset/burg_quelle.mid\n",
            "Parsing /content/drive/My Drive/Machine Learning /Projects/Music_Gen(upshot)/dataset/chpn_op10_e12.mid\n",
            "Parsing /content/drive/My Drive/Machine Learning /Projects/Music_Gen(upshot)/dataset/chpn_op7_1.mid\n",
            "Parsing /content/drive/My Drive/Machine Learning /Projects/Music_Gen(upshot)/dataset/chpn_op10_e01.mid\n",
            "Parsing /content/drive/My Drive/Machine Learning /Projects/Music_Gen(upshot)/dataset/chpn_op23.mid\n",
            "Parsing /content/drive/My Drive/Machine Learning /Projects/Music_Gen(upshot)/dataset/chp_op31.mid\n",
            "Parsing /content/drive/My Drive/Machine Learning /Projects/Music_Gen(upshot)/dataset/chpn_op35_1.mid\n",
            "Parsing /content/drive/My Drive/Machine Learning /Projects/Music_Gen(upshot)/dataset/chpn_op33_4.mid\n",
            "Parsing /content/drive/My Drive/Machine Learning /Projects/Music_Gen(upshot)/dataset/chpn_op33_2.mid\n",
            "Parsing /content/drive/My Drive/Machine Learning /Projects/Music_Gen(upshot)/dataset/chpn_op27_2.mid\n",
            "Parsing /content/drive/My Drive/Machine Learning /Projects/Music_Gen(upshot)/dataset/chpn_op27_1.mid\n",
            "Parsing /content/drive/My Drive/Machine Learning /Projects/Music_Gen(upshot)/dataset/chpn_op25_e12.mid\n",
            "Parsing /content/drive/My Drive/Machine Learning /Projects/Music_Gen(upshot)/dataset/chpn_op25_e11.mid\n",
            "Parsing /content/drive/My Drive/Machine Learning /Projects/Music_Gen(upshot)/dataset/chpn_op25_e4.mid\n",
            "Parsing /content/drive/My Drive/Machine Learning /Projects/Music_Gen(upshot)/dataset/chpn_op25_e3.mid\n",
            "Parsing /content/drive/My Drive/Machine Learning /Projects/Music_Gen(upshot)/dataset/chpn_op25_e2.mid\n",
            "Parsing /content/drive/My Drive/Machine Learning /Projects/Music_Gen(upshot)/dataset/deb_menu.mid\n",
            "Parsing /content/drive/My Drive/Machine Learning /Projects/Music_Gen(upshot)/dataset/chpn-p24.mid\n",
            "Parsing /content/drive/My Drive/Machine Learning /Projects/Music_Gen(upshot)/dataset/chpn-p22.mid\n",
            "Parsing /content/drive/My Drive/Machine Learning /Projects/Music_Gen(upshot)/dataset/chpn-p21.mid\n",
            "Parsing /content/drive/My Drive/Machine Learning /Projects/Music_Gen(upshot)/dataset/chpn-p23.mid\n",
            "Parsing /content/drive/My Drive/Machine Learning /Projects/Music_Gen(upshot)/dataset/chpn-p20.mid\n",
            "Parsing /content/drive/My Drive/Machine Learning /Projects/Music_Gen(upshot)/dataset/chpn-p19.mid\n",
            "Parsing /content/drive/My Drive/Machine Learning /Projects/Music_Gen(upshot)/dataset/chpn-p18.mid\n",
            "Parsing /content/drive/My Drive/Machine Learning /Projects/Music_Gen(upshot)/dataset/chpn-p17.mid\n",
            "Parsing /content/drive/My Drive/Machine Learning /Projects/Music_Gen(upshot)/dataset/chpn-p16.mid\n",
            "Parsing /content/drive/My Drive/Machine Learning /Projects/Music_Gen(upshot)/dataset/chpn-p15.mid\n",
            "Parsing /content/drive/My Drive/Machine Learning /Projects/Music_Gen(upshot)/dataset/chpn-p14.mid\n",
            "Parsing /content/drive/My Drive/Machine Learning /Projects/Music_Gen(upshot)/dataset/chpn-p13.mid\n",
            "Parsing /content/drive/My Drive/Machine Learning /Projects/Music_Gen(upshot)/dataset/chpn-p12.mid\n",
            "Parsing /content/drive/My Drive/Machine Learning /Projects/Music_Gen(upshot)/dataset/chpn-p8.mid\n",
            "Parsing /content/drive/My Drive/Machine Learning /Projects/Music_Gen(upshot)/dataset/chpn-p9.mid\n",
            "Parsing /content/drive/My Drive/Machine Learning /Projects/Music_Gen(upshot)/dataset/chpn-p7.mid\n",
            "Parsing /content/drive/My Drive/Machine Learning /Projects/Music_Gen(upshot)/dataset/chpn-p11.mid\n",
            "Parsing /content/drive/My Drive/Machine Learning /Projects/Music_Gen(upshot)/dataset/chpn-p10.mid\n",
            "Parsing /content/drive/My Drive/Machine Learning /Projects/Music_Gen(upshot)/dataset/chpn-p6.mid\n",
            "Parsing /content/drive/My Drive/Machine Learning /Projects/Music_Gen(upshot)/dataset/chpn-p3.mid\n",
            "Parsing /content/drive/My Drive/Machine Learning /Projects/Music_Gen(upshot)/dataset/chpn-p5.mid\n",
            "Parsing /content/drive/My Drive/Machine Learning /Projects/Music_Gen(upshot)/dataset/chpn-p4.mid\n",
            "Parsing /content/drive/My Drive/Machine Learning /Projects/Music_Gen(upshot)/dataset/chpn-p2.mid\n",
            "Parsing /content/drive/My Drive/Machine Learning /Projects/Music_Gen(upshot)/dataset/chpn-p1.mid\n",
            "Parsing /content/drive/My Drive/Machine Learning /Projects/Music_Gen(upshot)/dataset/chpn_op53.mid\n",
            "Parsing /content/drive/My Drive/Machine Learning /Projects/Music_Gen(upshot)/dataset/chpn_op66.mid\n",
            "Parsing /content/drive/My Drive/Machine Learning /Projects/Music_Gen(upshot)/dataset/chpn_op35_4.mid\n",
            "Parsing /content/drive/My Drive/Machine Learning /Projects/Music_Gen(upshot)/dataset/chpn_op35_3.mid\n",
            "Parsing /content/drive/My Drive/Machine Learning /Projects/Music_Gen(upshot)/dataset/chpn_op35_2.mid\n",
            "Parsing /content/drive/My Drive/Machine Learning /Projects/Music_Gen(upshot)/dataset/deb_prel.mid\n",
            "Parsing /content/drive/My Drive/Machine Learning /Projects/Music_Gen(upshot)/dataset/alb_se1.mid\n",
            "Parsing /content/drive/My Drive/Machine Learning /Projects/Music_Gen(upshot)/dataset/alb_esp6.mid\n",
            "Parsing /content/drive/My Drive/Machine Learning /Projects/Music_Gen(upshot)/dataset/alb_esp5.mid\n",
            "Parsing /content/drive/My Drive/Machine Learning /Projects/Music_Gen(upshot)/dataset/alb_esp3.mid\n",
            "Parsing /content/drive/My Drive/Machine Learning /Projects/Music_Gen(upshot)/dataset/alb_esp4.mid\n",
            "Parsing /content/drive/My Drive/Machine Learning /Projects/Music_Gen(upshot)/dataset/alb_esp2.mid\n",
            "Parsing /content/drive/My Drive/Machine Learning /Projects/Music_Gen(upshot)/dataset/alb_se5.mid\n",
            "Parsing /content/drive/My Drive/Machine Learning /Projects/Music_Gen(upshot)/dataset/alb_se4.mid\n",
            "Parsing /content/drive/My Drive/Machine Learning /Projects/Music_Gen(upshot)/dataset/alb_se3.mid\n",
            "Parsing /content/drive/My Drive/Machine Learning /Projects/Music_Gen(upshot)/dataset/alb_se2.mid\n",
            "Parsing /content/drive/My Drive/Machine Learning /Projects/Music_Gen(upshot)/dataset/alb_se8.mid\n",
            "Parsing /content/drive/My Drive/Machine Learning /Projects/Music_Gen(upshot)/dataset/alb_se7.mid\n",
            "Parsing /content/drive/My Drive/Machine Learning /Projects/Music_Gen(upshot)/dataset/alb_se6.mid\n",
            "Parsing /content/drive/My Drive/Machine Learning /Projects/Music_Gen(upshot)/dataset/bor_ps7.mid\n",
            "Parsing /content/drive/My Drive/Machine Learning /Projects/Music_Gen(upshot)/dataset/br_im2.mid\n",
            "Parsing /content/drive/My Drive/Machine Learning /Projects/Music_Gen(upshot)/dataset/br_im5.mid\n",
            "Parsing /content/drive/My Drive/Machine Learning /Projects/Music_Gen(upshot)/dataset/bor_ps6.mid\n",
            "Parsing /content/drive/My Drive/Machine Learning /Projects/Music_Gen(upshot)/dataset/bor_ps5.mid\n",
            "Parsing /content/drive/My Drive/Machine Learning /Projects/Music_Gen(upshot)/dataset/bor_ps4.mid\n",
            "Parsing /content/drive/My Drive/Machine Learning /Projects/Music_Gen(upshot)/dataset/bor_ps3.mid\n",
            "Parsing /content/drive/My Drive/Machine Learning /Projects/Music_Gen(upshot)/dataset/bor_ps2.mid\n",
            "Parsing /content/drive/My Drive/Machine Learning /Projects/Music_Gen(upshot)/dataset/bor_ps1.mid\n",
            "Parsing /content/drive/My Drive/Machine Learning /Projects/Music_Gen(upshot)/dataset/beethoven_opus90_2.mid\n",
            "Parsing /content/drive/My Drive/Machine Learning /Projects/Music_Gen(upshot)/dataset/beethoven_opus90_1.mid\n",
            "Parsing /content/drive/My Drive/Machine Learning /Projects/Music_Gen(upshot)/dataset/beethoven_opus22_4.mid\n",
            "Parsing /content/drive/My Drive/Machine Learning /Projects/Music_Gen(upshot)/dataset/beethoven_opus22_3.mid\n",
            "Parsing /content/drive/My Drive/Machine Learning /Projects/Music_Gen(upshot)/dataset/beethoven_opus22_2.mid\n",
            "Parsing /content/drive/My Drive/Machine Learning /Projects/Music_Gen(upshot)/dataset/beethoven_opus22_1.mid\n",
            "Parsing /content/drive/My Drive/Machine Learning /Projects/Music_Gen(upshot)/dataset/beethoven_opus10_3.mid\n",
            "Parsing /content/drive/My Drive/Machine Learning /Projects/Music_Gen(upshot)/dataset/beethoven_opus10_2.mid\n",
            "Parsing /content/drive/My Drive/Machine Learning /Projects/Music_Gen(upshot)/dataset/beethoven_opus10_1.mid\n",
            "Parsing /content/drive/My Drive/Machine Learning /Projects/Music_Gen(upshot)/dataset/beethoven_les_adieux_3.mid\n",
            "Parsing /content/drive/My Drive/Machine Learning /Projects/Music_Gen(upshot)/dataset/beethoven_les_adieux_2.mid\n",
            "Parsing /content/drive/My Drive/Machine Learning /Projects/Music_Gen(upshot)/dataset/beethoven_les_adieux_1.mid\n",
            "Parsing /content/drive/My Drive/Machine Learning /Projects/Music_Gen(upshot)/dataset/beethoven_hammerklavier_4.mid\n",
            "Parsing /content/drive/My Drive/Machine Learning /Projects/Music_Gen(upshot)/dataset/beethoven_hammerklavier_3.mid\n",
            "Parsing /content/drive/My Drive/Machine Learning /Projects/Music_Gen(upshot)/dataset/beethoven_hammerklavier_2.mid\n",
            "Parsing /content/drive/My Drive/Machine Learning /Projects/Music_Gen(upshot)/dataset/beethoven_hammerklavier_1.mid\n",
            "Parsing /content/drive/My Drive/Machine Learning /Projects/Music_Gen(upshot)/dataset/bach_850.mid\n",
            "Parsing /content/drive/My Drive/Machine Learning /Projects/Music_Gen(upshot)/dataset/bach_846.mid\n",
            "Parsing /content/drive/My Drive/Machine Learning /Projects/Music_Gen(upshot)/dataset/bach_847.mid\n",
            "Parsing /content/drive/My Drive/Machine Learning /Projects/Music_Gen(upshot)/dataset/appass_3.mid\n",
            "Parsing /content/drive/My Drive/Machine Learning /Projects/Music_Gen(upshot)/dataset/appass_2.mid\n",
            "Parsing /content/drive/My Drive/Machine Learning /Projects/Music_Gen(upshot)/dataset/appass_1.mid\n",
            "Parsing /content/drive/My Drive/Machine Learning /Projects/Music_Gen(upshot)/dataset/brahms_opus1_4.mid\n",
            "Parsing /content/drive/My Drive/Machine Learning /Projects/Music_Gen(upshot)/dataset/brahms_opus1_3.mid\n",
            "Parsing /content/drive/My Drive/Machine Learning /Projects/Music_Gen(upshot)/dataset/brahms_opus117_2.mid\n",
            "Parsing /content/drive/My Drive/Machine Learning /Projects/Music_Gen(upshot)/dataset/brahms_opus1_1.mid\n",
            "Parsing /content/drive/My Drive/Machine Learning /Projects/Music_Gen(upshot)/dataset/brahms_opus117_1.mid\n",
            "Parsing /content/drive/My Drive/Machine Learning /Projects/Music_Gen(upshot)/dataset/brahms_opus1_2.mid\n",
            "Parsing /content/drive/My Drive/Machine Learning /Projects/Music_Gen(upshot)/dataset/br_rhap.mid\n",
            "Parsing /content/drive/My Drive/Machine Learning /Projects/Music_Gen(upshot)/dataset/chp_op18.mid\n",
            "Parsing /content/drive/My Drive/Machine Learning /Projects/Music_Gen(upshot)/dataset/burg_geschwindigkeit.mid\n",
            "Parsing /content/drive/My Drive/Machine Learning /Projects/Music_Gen(upshot)/dataset/chpn_op10_e05.mid\n",
            "Parsing /content/drive/My Drive/Machine Learning /Projects/Music_Gen(upshot)/dataset/chpn_op25_e1.mid\n",
            "Parsing /content/drive/My Drive/Machine Learning /Projects/Music_Gen(upshot)/dataset/burg_spinnerlied.mid\n",
            "Parsing /content/drive/My Drive/Machine Learning /Projects/Music_Gen(upshot)/dataset/burg_gewitter.mid\n",
            "Parsing /content/drive/My Drive/Machine Learning /Projects/Music_Gen(upshot)/dataset/chpn_op7_2.mid\n",
            "Parsing /content/drive/My Drive/Machine Learning /Projects/Music_Gen(upshot)/dataset/burg_trennung.mid\n",
            "Parsing /content/drive/My Drive/Machine Learning /Projects/Music_Gen(upshot)/dataset/burg_sylphen.mid\n",
            "Parsing /content/drive/My Drive/Machine Learning /Projects/Music_Gen(upshot)/dataset/burg_perlen.mid\n",
            "Parsing /content/drive/My Drive/Machine Learning /Projects/Music_Gen(upshot)/dataset/burg_agitato.mid\n",
            "Parsing /content/drive/My Drive/Machine Learning /Projects/Music_Gen(upshot)/dataset/burg_erwachen.mid\n",
            "Parsing /content/drive/My Drive/Machine Learning /Projects/Music_Gen(upshot)/dataset/burg_quelle.mid\n",
            "Parsing /content/drive/My Drive/Machine Learning /Projects/Music_Gen(upshot)/dataset/chpn_op10_e12.mid\n",
            "Parsing /content/drive/My Drive/Machine Learning /Projects/Music_Gen(upshot)/dataset/chpn_op7_1.mid\n",
            "Parsing /content/drive/My Drive/Machine Learning /Projects/Music_Gen(upshot)/dataset/chpn_op10_e01.mid\n",
            "Parsing /content/drive/My Drive/Machine Learning /Projects/Music_Gen(upshot)/dataset/chpn_op23.mid\n",
            "Parsing /content/drive/My Drive/Machine Learning /Projects/Music_Gen(upshot)/dataset/chp_op31.mid\n",
            "Parsing /content/drive/My Drive/Machine Learning /Projects/Music_Gen(upshot)/dataset/chpn_op35_1.mid\n",
            "Parsing /content/drive/My Drive/Machine Learning /Projects/Music_Gen(upshot)/dataset/chpn_op33_4.mid\n",
            "Parsing /content/drive/My Drive/Machine Learning /Projects/Music_Gen(upshot)/dataset/chpn_op33_2.mid\n",
            "Parsing /content/drive/My Drive/Machine Learning /Projects/Music_Gen(upshot)/dataset/chpn_op27_2.mid\n",
            "Parsing /content/drive/My Drive/Machine Learning /Projects/Music_Gen(upshot)/dataset/chpn_op27_1.mid\n",
            "Parsing /content/drive/My Drive/Machine Learning /Projects/Music_Gen(upshot)/dataset/chpn_op25_e12.mid\n",
            "Parsing /content/drive/My Drive/Machine Learning /Projects/Music_Gen(upshot)/dataset/chpn_op25_e11.mid\n",
            "Parsing /content/drive/My Drive/Machine Learning /Projects/Music_Gen(upshot)/dataset/chpn_op25_e4.mid\n",
            "Parsing /content/drive/My Drive/Machine Learning /Projects/Music_Gen(upshot)/dataset/chpn_op25_e3.mid\n",
            "Parsing /content/drive/My Drive/Machine Learning /Projects/Music_Gen(upshot)/dataset/chpn_op25_e2.mid\n",
            "Parsing /content/drive/My Drive/Machine Learning /Projects/Music_Gen(upshot)/dataset/deb_menu.mid\n",
            "Parsing /content/drive/My Drive/Machine Learning /Projects/Music_Gen(upshot)/dataset/chpn-p24.mid\n",
            "Parsing /content/drive/My Drive/Machine Learning /Projects/Music_Gen(upshot)/dataset/chpn-p22.mid\n",
            "Parsing /content/drive/My Drive/Machine Learning /Projects/Music_Gen(upshot)/dataset/chpn-p21.mid\n",
            "Parsing /content/drive/My Drive/Machine Learning /Projects/Music_Gen(upshot)/dataset/chpn-p23.mid\n",
            "Parsing /content/drive/My Drive/Machine Learning /Projects/Music_Gen(upshot)/dataset/chpn-p20.mid\n",
            "Parsing /content/drive/My Drive/Machine Learning /Projects/Music_Gen(upshot)/dataset/chpn-p19.mid\n",
            "Parsing /content/drive/My Drive/Machine Learning /Projects/Music_Gen(upshot)/dataset/chpn-p18.mid\n",
            "Parsing /content/drive/My Drive/Machine Learning /Projects/Music_Gen(upshot)/dataset/chpn-p17.mid\n",
            "Parsing /content/drive/My Drive/Machine Learning /Projects/Music_Gen(upshot)/dataset/chpn-p16.mid\n",
            "Parsing /content/drive/My Drive/Machine Learning /Projects/Music_Gen(upshot)/dataset/chpn-p15.mid\n",
            "Parsing /content/drive/My Drive/Machine Learning /Projects/Music_Gen(upshot)/dataset/chpn-p14.mid\n",
            "Parsing /content/drive/My Drive/Machine Learning /Projects/Music_Gen(upshot)/dataset/chpn-p13.mid\n",
            "Parsing /content/drive/My Drive/Machine Learning /Projects/Music_Gen(upshot)/dataset/chpn-p12.mid\n",
            "Parsing /content/drive/My Drive/Machine Learning /Projects/Music_Gen(upshot)/dataset/chpn-p8.mid\n",
            "Parsing /content/drive/My Drive/Machine Learning /Projects/Music_Gen(upshot)/dataset/chpn-p9.mid\n",
            "Parsing /content/drive/My Drive/Machine Learning /Projects/Music_Gen(upshot)/dataset/chpn-p7.mid\n",
            "Parsing /content/drive/My Drive/Machine Learning /Projects/Music_Gen(upshot)/dataset/chpn-p11.mid\n",
            "Parsing /content/drive/My Drive/Machine Learning /Projects/Music_Gen(upshot)/dataset/chpn-p10.mid\n",
            "Parsing /content/drive/My Drive/Machine Learning /Projects/Music_Gen(upshot)/dataset/chpn-p6.mid\n",
            "Parsing /content/drive/My Drive/Machine Learning /Projects/Music_Gen(upshot)/dataset/chpn-p3.mid\n",
            "Parsing /content/drive/My Drive/Machine Learning /Projects/Music_Gen(upshot)/dataset/chpn-p5.mid\n",
            "Parsing /content/drive/My Drive/Machine Learning /Projects/Music_Gen(upshot)/dataset/chpn-p4.mid\n",
            "Parsing /content/drive/My Drive/Machine Learning /Projects/Music_Gen(upshot)/dataset/chpn-p2.mid\n",
            "Parsing /content/drive/My Drive/Machine Learning /Projects/Music_Gen(upshot)/dataset/chpn-p1.mid\n",
            "Parsing /content/drive/My Drive/Machine Learning /Projects/Music_Gen(upshot)/dataset/chpn_op53.mid\n",
            "Parsing /content/drive/My Drive/Machine Learning /Projects/Music_Gen(upshot)/dataset/chpn_op66.mid\n",
            "Parsing /content/drive/My Drive/Machine Learning /Projects/Music_Gen(upshot)/dataset/chpn_op35_4.mid\n",
            "Parsing /content/drive/My Drive/Machine Learning /Projects/Music_Gen(upshot)/dataset/chpn_op35_3.mid\n",
            "Parsing /content/drive/My Drive/Machine Learning /Projects/Music_Gen(upshot)/dataset/chpn_op35_2.mid\n",
            "Parsing /content/drive/My Drive/Machine Learning /Projects/Music_Gen(upshot)/dataset/deb_prel.mid\n"
          ],
          "name": "stdout"
        },
        {
          "output_type": "execute_result",
          "data": {
            "text/plain": [
              "(173581, '5.9.0')"
            ]
          },
          "metadata": {
            "tags": []
          },
          "execution_count": 148
        }
      ]
    },
    {
      "cell_type": "code",
      "metadata": {
        "id": "YdprezqfM15J",
        "colab_type": "code",
        "colab": {
          "base_uri": "https://localhost:8080/",
          "height": 34
        },
        "outputId": "8c4a6637-26d9-4105-c5d0-a7f34995c93d"
      },
      "source": [
        "def get_batch(vectorized_songs, seq_length, batch_size):\n",
        "\n",
        "  # the length of the vectorized songs string\n",
        "  n = vectorized_songs.shape[0] - 1\n",
        "  # randomly choose the starting indices for the examples in the training batch\n",
        "  idx = np.random.choice(n-seq_length, batch_size)\n",
        "\n",
        "\n",
        "  input_batch = [vectorized_songs[i:i+seq_length] for i in idx]\n",
        "  output_batch = [vectorized_songs[i+1:i+seq_length+1] for i in idx]\n",
        "\n",
        "  # x_batch, y_batch provide the true inputs and targets for network training\n",
        "  x_batch = np.reshape(input_batch, [batch_size, seq_length])\n",
        "  y_batch = np.reshape(output_batch, [batch_size, seq_length])\n",
        "  return x_batch, y_batch\n",
        "\n",
        "\n",
        "x_batch, y_batch = get_batch(vectorized_songs, seq_length=5, batch_size=1)\n",
        "x_batch.shape, y_batch.shape"
      ],
      "execution_count": 161,
      "outputs": [
        {
          "output_type": "execute_result",
          "data": {
            "text/plain": [
              "((1, 5), (1, 5))"
            ]
          },
          "metadata": {
            "tags": []
          },
          "execution_count": 161
        }
      ]
    },
    {
      "cell_type": "code",
      "metadata": {
        "id": "0kM2wmXQ5yc8",
        "colab_type": "code",
        "colab": {
          "base_uri": "https://localhost:8080/",
          "height": 255
        },
        "outputId": "fadd93d2-ddf5-4e39-b3e8-bac0382a17e1"
      },
      "source": [
        "# building the model\n",
        "# Import Tensorflow 2.0\n",
        "%tensorflow_version 2.x\n",
        "import tensorflow as tf \n",
        "\n",
        "# Import all remaining packages\n",
        "import numpy as np\n",
        "import os\n",
        "import time\n",
        "import functools\n",
        "from IPython import display as ipythondisplay\n",
        "from tqdm import tqdm\n",
        "!apt-get install abcmidi timidity > /dev/null 2>&1\n",
        "\n",
        "from keras.models import Sequential\n",
        "from keras.layers import Dense\n",
        "from keras.layers import LSTM\n",
        "from keras.layers import Embedding\n",
        "\n",
        "def build_model(vocab_size, embedding_dim, rnn_units, batch_size):\n",
        "\n",
        "  model = Sequential()\n",
        "\n",
        "  model.add(Embedding(vocab_size, embedding_dim, batch_input_shape=[batch_size, None]))\n",
        "\n",
        "  model.add(LSTM(rnn_units, return_sequences=True, recurrent_initializer='glorot_uniform',\n",
        "                   recurrent_activation='sigmoid',stateful=True))\n",
        "  \n",
        "  model.add(Dense(vocab_size))     \n",
        "\n",
        "  return model\n",
        "\n",
        "# Build a simple model with default hyperparameters. You will get the \n",
        "#   chance to change these later.\n",
        "model = build_model(vocab_size, embedding_dim=256, rnn_units=1024, batch_size=32)\n",
        "model.summary()"
      ],
      "execution_count": 162,
      "outputs": [
        {
          "output_type": "stream",
          "text": [
            "Model: \"sequential_15\"\n",
            "_________________________________________________________________\n",
            "Layer (type)                 Output Shape              Param #   \n",
            "=================================================================\n",
            "embedding_15 (Embedding)     (32, None, 256)           97280     \n",
            "_________________________________________________________________\n",
            "lstm_15 (LSTM)               (32, None, 1024)          5246976   \n",
            "_________________________________________________________________\n",
            "dense_15 (Dense)             (32, None, 380)           389500    \n",
            "=================================================================\n",
            "Total params: 5,733,756\n",
            "Trainable params: 5,733,756\n",
            "Non-trainable params: 0\n",
            "_________________________________________________________________\n"
          ],
          "name": "stdout"
        }
      ]
    },
    {
      "cell_type": "code",
      "metadata": {
        "id": "f49Qm3Jc-LkX",
        "colab_type": "code",
        "colab": {}
      },
      "source": [
        "\n",
        "# for plotting \n",
        "\n",
        "import time\n",
        "import matplotlib.pyplot as plt\n",
        "\n",
        "class PeriodicPlotter:\n",
        "  def __init__(self, sec, xlabel='', ylabel='', scale=None):\n",
        "\n",
        "    self.xlabel = xlabel\n",
        "    self.ylabel = ylabel\n",
        "    self.sec = sec\n",
        "    self.scale = scale\n",
        "\n",
        "    self.tic = time.time()\n",
        "\n",
        "  def plot(self, data):\n",
        "    if time.time() - self.tic > self.sec:\n",
        "      plt.cla()\n",
        "\n",
        "      if self.scale is None:\n",
        "        plt.plot(data)\n",
        "      elif self.scale == 'semilogx':\n",
        "        plt.semilogx(data)\n",
        "      elif self.scale == 'semilogy':\n",
        "        plt.semilogy(data)\n",
        "      elif self.scale == 'loglog':\n",
        "        plt.loglog(data)\n",
        "      else:\n",
        "        raise ValueError(\"unrecognized parameter scale {}\".format(self.scale))\n",
        "\n",
        "      plt.xlabel(self.xlabel); plt.ylabel(self.ylabel)\n",
        "      ipythondisplay.clear_output(wait=True)\n",
        "      ipythondisplay.display(plt.gcf())\n",
        "\n",
        "      self.tic = time.time()"
      ],
      "execution_count": 163,
      "outputs": []
    },
    {
      "cell_type": "code",
      "metadata": {
        "id": "gjhpd4iD-LcW",
        "colab_type": "code",
        "colab": {}
      },
      "source": [
        "### Hyperparameter setting and optimization ###\n",
        "\n",
        "# Optimization parameters:\n",
        "num_training_iterations = 4000  # Increase this to train longer [use 4k]\n",
        "batch_size = 32                 # Experiment between 1 and 64\n",
        "seq_length =100                 # Experiment between 50 and 500\n",
        "learning_rate = 5e-3            # Experiment between 1e-5 and 1e-1\n",
        "\n",
        "# Model parameters: \n",
        "embedding_dim = 256 \n",
        "rnn_units = 1024                # Experiment between 1 and 2048\n",
        "\n",
        "# Checkpoint location: \n",
        "checkpoint_dir = './training_checkpoints'\n",
        "checkpoint_prefix = os.path.join(checkpoint_dir, \"my_ckpt\")"
      ],
      "execution_count": 176,
      "outputs": []
    },
    {
      "cell_type": "code",
      "metadata": {
        "id": "iObdcm8ZEQkh",
        "colab_type": "code",
        "colab": {}
      },
      "source": [
        ""
      ],
      "execution_count": 176,
      "outputs": []
    },
    {
      "cell_type": "code",
      "metadata": {
        "id": "cu6rPnPj-kPk",
        "colab_type": "code",
        "colab": {}
      },
      "source": [
        "model = build_model(vocab_size, embedding_dim, rnn_units, batch_size)\n",
        "\n",
        "optimizer = tf.keras.optimizers.Adam(learning_rate)\n",
        "\n",
        "def compute_loss(labels, logits):\n",
        "  loss = tf.keras.losses.sparse_categorical_crossentropy(labels, logits, from_logits=True) \n",
        "  return loss\n",
        "\n",
        "@tf.function\n",
        "def train_step(x, y): \n",
        "\n",
        "  # Use tf.GradientTape()\n",
        "  with tf.GradientTape() as tape:\n",
        "  \n",
        "    y_hat = model(x)\n",
        "  \n",
        "    loss = compute_loss(y, y_hat)\n",
        "\n",
        "  grads = tape.gradient(loss, model.trainable_variables)\n",
        "  \n",
        "  # Apply the gradients to the optimizer so it can update the model accordingly\n",
        "  optimizer.apply_gradients(zip(grads, model.trainable_variables))\n",
        "  return loss\n",
        "\n",
        "##################\n",
        "# Begin training!#\n",
        "##################\n"
      ],
      "execution_count": 177,
      "outputs": []
    },
    {
      "cell_type": "code",
      "metadata": {
        "id": "5jGCw-8t-kSm",
        "colab_type": "code",
        "colab": {
          "base_uri": "https://localhost:8080/",
          "height": 556
        },
        "outputId": "ba0a432a-3ff4-44d8-e530-952e67cd2693"
      },
      "source": [
        "history = []\n",
        "plotter = PeriodicPlotter(sec=2, xlabel='Iterations', ylabel='Loss')\n",
        "if hasattr(tqdm, '_instances'): tqdm._instances.clear() # clear if it exists\n",
        "\n",
        "for iter in tqdm(range(num_training_iterations)):\n",
        "\n",
        "  # Grab a batch and propagate it through the network\n",
        "  x_batch, y_batch = get_batch(vectorized_songs, seq_length, batch_size)\n",
        "  loss = train_step(x_batch, y_batch)\n",
        "\n",
        "  # Update the progress bar\n",
        "  history.append(loss.numpy().mean())\n",
        "  plotter.plot(history)\n",
        "\n",
        "  # Update the model with the changed weights!\n",
        "  if iter % 100 == 0:     \n",
        "    model.save_weights(checkpoint_prefix)\n",
        "    \n",
        "# Save the trained model and the weights\n",
        "model.save_weights(checkpoint_prefix)"
      ],
      "execution_count": 178,
      "outputs": [
        {
          "output_type": "display_data",
          "data": {
            "image/png": "[encoded data removed]",
            "text/plain": [
              "<Figure size 432x288 with 1 Axes>"
            ]
          },
          "metadata": {
            "tags": [],
            "image/png": {
              "width": 376,
              "height": 261
            }
          }
        },
        {
          "output_type": "stream",
          "text": [
            "100%|██████████| 4000/4000 [03:07<00:00, 21.39it/s]\n"
          ],
          "name": "stderr"
        },
        {
          "output_type": "display_data",
          "data": {
            "image/png": "[encoded data removed]",
            "text/plain": [
              "<Figure size 432x288 with 1 Axes>"
            ]
          },
          "metadata": {
            "tags": [],
            "image/png": {
              "width": 376,
              "height": 261
            },
            "needs_background": "light"
          }
        }
      ]
    },
    {
      "cell_type": "code",
      "metadata": {
        "id": "uJTtGjlo-kVF",
        "colab_type": "code",
        "colab": {
          "base_uri": "https://localhost:8080/",
          "height": 255
        },
        "outputId": "5c17e6b2-e193-42c7-a9e2-291eef8744f9"
      },
      "source": [
        "model = build_model(vocab_size, embedding_dim, rnn_units, batch_size=1)\n",
        "\n",
        "# Restore the model weights for the last checkpoint after training\n",
        "model.load_weights(tf.train.latest_checkpoint(checkpoint_dir))\n",
        "model.build(tf.TensorShape([1, None]))\n",
        "\n",
        "model.summary()"
      ],
      "execution_count": 180,
      "outputs": [
        {
          "output_type": "stream",
          "text": [
            "Model: \"sequential_20\"\n",
            "_________________________________________________________________\n",
            "Layer (type)                 Output Shape              Param #   \n",
            "=================================================================\n",
            "embedding_20 (Embedding)     (1, None, 256)            97280     \n",
            "_________________________________________________________________\n",
            "lstm_20 (LSTM)               (1, None, 1024)           5246976   \n",
            "_________________________________________________________________\n",
            "dense_20 (Dense)             (1, None, 380)            389500    \n",
            "=================================================================\n",
            "Total params: 5,733,756\n",
            "Trainable params: 5,733,756\n",
            "Non-trainable params: 0\n",
            "_________________________________________________________________\n"
          ],
          "name": "stdout"
        }
      ]
    },
    {
      "cell_type": "code",
      "metadata": {
        "id": "cftfwauseA8p",
        "colab_type": "code",
        "colab": {
          "base_uri": "https://localhost:8080/",
          "height": 34
        },
        "outputId": "f395dfd7-1a98-4cbc-9ca2-1f4b54bb4951"
      },
      "source": [
        "vectorized_songs[5]"
      ],
      "execution_count": 181,
      "outputs": [
        {
          "output_type": "execute_result",
          "data": {
            "text/plain": [
              "191"
            ]
          },
          "metadata": {
            "tags": []
          },
          "execution_count": 181
        }
      ]
    },
    {
      "cell_type": "code",
      "metadata": {
        "id": "X__8vqgLIjiG",
        "colab_type": "code",
        "colab": {}
      },
      "source": [
        "def generate_text(model, start_position, generation_length=500):\n",
        " \n",
        "  input_eval = vectorized_songs[start_position:]\n",
        " \n",
        "  input_eval = tf.expand_dims(input_eval, 0)\n",
        " \n",
        "  # Empty string to store our results\n",
        "  text_generated = []\n",
        "  # Here batch size == 1\n",
        "  model.reset_states()\n",
        "  tqdm._instances.clear()\n",
        " \n",
        "  for i in tqdm(range(generation_length)):\n",
        " \n",
        "      predictions = model(input_eval)\n",
        "      \n",
        "      predictions = tf.squeeze(predictions, 0)\n",
        " \n",
        "      predicted_id = tf.random.categorical(predictions, num_samples=1)[-1,0].numpy()\n",
        "  \n",
        "      input_eval = tf.expand_dims([predicted_id], 0)\n",
        "\n",
        "      result = idx2char[predicted_id]\n",
        "      \n",
        "      text_generated.append(result)\n",
        "    #   text_generated.append(',')\n",
        "    \n",
        "  return text_generated\n",
        "      \n",
        "#       input_eval = tf.expand_dims([predicted_id], 0)\n",
        "      \n",
        "#       all_val.append(predicted_id)\n",
        " \n",
        "\n",
        "#   return np.concatenate((vectorized_songs[start_position], all_val), axis=None)"
      ],
      "execution_count": 187,
      "outputs": []
    },
    {
      "cell_type": "code",
      "metadata": {
        "id": "7KBmLNFQIjnt",
        "colab_type": "code",
        "colab": {
          "base_uri": "https://localhost:8080/",
          "height": 51
        },
        "outputId": "91cb4350-18b9-4192-efa6-ecdf9590b07c"
      },
      "source": [
        "generated_values = generate_text(model, start_position= 88, generation_length=500)\n",
        "generated_values[:10]"
      ],
      "execution_count": 188,
      "outputs": [
        {
          "output_type": "stream",
          "text": [
            "100%|██████████| 500/500 [00:15<00:00, 31.59it/s]\n"
          ],
          "name": "stderr"
        },
        {
          "output_type": "execute_result",
          "data": {
            "text/plain": [
              "['9.0', 'E4', '5.9.0', 'D4', 'C4', '5.9.0', 'D4', 'E4', '0.5', '9.0']"
            ]
          },
          "metadata": {
            "tags": []
          },
          "execution_count": 188
        }
      ]
    },
    {
      "cell_type": "code",
      "metadata": {
        "id": "OWVdB5HsIjlM",
        "colab_type": "code",
        "colab": {}
      },
      "source": [
        "def create_midi(prediction_output):\n",
        "    \n",
        "    \"\"\" Converts the output from the prediction to notes and create a midi file\n",
        "        from the notes \"\"\"\n",
        "    \n",
        "    offset = 0\n",
        "    output_notes = []\n",
        "\n",
        "    # create note and chord objects based on the values generated by the model\n",
        "    for pattern in prediction_output:\n",
        "        # pattern is a chord\n",
        "        if ('.' in pattern) or pattern.isdigit():\n",
        "            notes_in_chord = pattern.split('.')\n",
        "            notes = []\n",
        "            for current_note in notes_in_chord:\n",
        "                new_note = note.Note(int(current_note))\n",
        "                new_note.storedInstrument = instrument.SnareDrum()\n",
        "                notes.append(new_note)\n",
        "            new_chord = chord.Chord(notes)\n",
        "            new_chord.offset = offset\n",
        "            output_notes.append(new_chord)\n",
        "        # pattern is a note\n",
        "        else:\n",
        "            new_note = note.Note(pattern)\n",
        "            new_note.offset = offset\n",
        "            new_note.storedInstrument = instrument.SnareDrum()\n",
        "            output_notes.append(new_note)\n",
        "\n",
        "        # increase offset each iteration so that notes do not stack\n",
        "        offset += 0.5\n",
        "\n",
        "    midi_stream = stream.Stream(output_notes)\n",
        "\n",
        "    midi_stream.write('midi', fp='first_mel.mid')\n",
        "\n",
        "    midi_stream.show('midi')"
      ],
      "execution_count": 189,
      "outputs": []
    },
    {
      "cell_type": "code",
      "metadata": {
        "id": "iou3MvLCf5uH",
        "colab_type": "code",
        "colab": {
          "base_uri": "https://localhost:8080/",
          "height": 17
        },
        "outputId": "39d2c802-1618-4748-affe-c4fa4ae2d887"
      },
      "source": [
        "type(generated_values), len(generated_values)\n",
        "\n",
        "create_midi(generated_values)\n",
        "\n",
        "# type(predicted_output)"
      ],
      "execution_count": 190,
      "outputs": [
        {
          "output_type": "display_data",
          "data": {
            "text/html": [
              "\n",
              "                <div id='midiPlayerDiv3189274'></div>\n",
              "                <link rel=\"stylesheet\" href=\"//cuthbertLab.github.io/music21j/css/m21.css\"\n",
              "                    type=\"text/css\" />\n",
              "                <script>\n",
              "                require.config({\n",
              "                    paths: {'music21': '//cuthbertLab.github.io/music21j/src/music21'}\n",
              "                });\n",
              "                require(['music21'], function() {\n",
              "                               mp = new music21.miditools.MidiPlayer();\n",
              "                               mp.addPlayer('#midiPlayerDiv3189274');\n",
              "                               mp.base64Load('data:audio/midi;base64,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');\n",
              "                        });\n",
              "                </script>"
            ],
            "text/plain": [
              "<IPython.core.display.HTML object>"
            ]
          },
          "metadata": {
            "tags": []
          }
        }
      ]
    },
    {
      "cell_type": "code",
      "metadata": {
        "id": "stq2tFq1i8Dm",
        "colab_type": "code",
        "colab": {}
      },
      "source": [
        ""
      ],
      "execution_count": 190,
      "outputs": []
    }
  ]
}